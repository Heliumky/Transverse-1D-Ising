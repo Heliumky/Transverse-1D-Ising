{
 "cells": [
  {
   "cell_type": "code",
   "execution_count": 1,
   "id": "7a2f588d",
   "metadata": {},
   "outputs": [],
   "source": [
    "#!/usr/bin/env python\n",
    "#\n",
    "# Simple DMRG tutorial.  This code contains a basic implementation of the\n",
    "# infinite system algorithm\n",
    "#\n",
    "# Copyright 2013 James R. Garrison and Ryan V. Mishmash.\n",
    "# Open source under the MIT license.  Source code at\n",
    "# <https://github.com/simple-dmrg/simple-dmrg/>\n",
    "\n",
    "# This code will run under any version of Python >= 2.6.  The following line\n",
    "# provides consistency between python2 and python3.\n",
    "from __future__ import print_function, division  # requires Python >= 2.6\n",
    "\n",
    "# numpy and scipy imports\n",
    "import numpy as np\n",
    "from scipy.sparse import kron, identity\n",
    "from scipy.sparse.linalg import eigsh  # Lanczos routine from ARPACK\n",
    "from scipy.linalg import eigh\n",
    "from scipy.sparse import csr_matrix\n",
    "\n",
    "# We will use python's \"namedtuple\" to represent the Block and EnlargedBlock\n",
    "# objects\n",
    "from collections import namedtuple"
   ]
  },
  {
   "cell_type": "code",
   "execution_count": 2,
   "id": "c7f337aa",
   "metadata": {},
   "outputs": [],
   "source": [
    "Block = namedtuple(\"Block\", [\"length\", \"basis_size\", \"operator_dict\"])\n",
    "EnlargedBlock = namedtuple(\"EnlargedBlock\", [\"length\", \"basis_size\", \"operator_dict\"])\n",
    "\n",
    "def is_valid_block(block):\n",
    "    for op in block.operator_dict.values():\n",
    "        if op.shape[0] != block.basis_size or op.shape[1] != block.basis_size:\n",
    "            return False\n",
    "    return True"
   ]
  },
  {
   "cell_type": "code",
   "execution_count": 3,
   "id": "9949570d",
   "metadata": {},
   "outputs": [],
   "source": [
    "# This function should test the same exact things, so there is no need to\n",
    "# repeat its definition.\n",
    "is_valid_enlarged_block = is_valid_block\n",
    "\n",
    "# Model-specific code for the Heisenberg XXZ chain\n",
    "model_d = 3  # single-site basis size\n",
    "\n",
    "Sz1 = csr_matrix([[1,0,0],[0,0,0],[0,0,-1]], dtype='d')\n",
    "Sp1 = csr_matrix([[0,1,0],[0,0,1],[0,0,0]], dtype='d')\n",
    "\n",
    "#H1 = np.array([[0, 0, 0], [0, 0, 0],[0, 0, 0]], dtype='d')  # single-site portion of H is zero\n",
    "H1 = -10**(-4)*Sz1  # single-site portion of H is zero"
   ]
  },
  {
   "cell_type": "code",
   "execution_count": 4,
   "id": "6495edd8",
   "metadata": {},
   "outputs": [],
   "source": [
    "def H2(Sz1, Sp1, Sz2, Sp2):  # two-site part of H\n",
    "    \"\"\"Given the operators S^z and S^+ on two sites in different Hilbert spaces\n",
    "    (e.g. two blocks), returns a Kronecker product representing the\n",
    "    corresponding two-site term in the Hamiltonian that joins the two sites.\n",
    "    \"\"\"\n",
    "    J = 1.\n",
    "    Jz = 1.\n",
    "    return (\n",
    "        (J / 2) * (kron(Sp1, csr_matrix.getH(Sp2)) + kron(csr_matrix.getH(Sp1), Sp2)) +\n",
    "        Jz * kron(Sz1, Sz2)\n",
    "    )\n",
    "\n",
    "    # conn refers to the connection operator, that is, the operator on the edge of\n",
    "    # the block, on the interior of the chain.  We need to be able to represent S^z\n",
    "    # and S^+ on that site in the current basis in order to grow the chain.\n",
    "initial_block = Block(length=1, basis_size=model_d, operator_dict={\n",
    "    \"H\": H1,\n",
    "    \"conn_Sz\": Sz1,\n",
    "    \"conn_Sp\": Sp1,\n",
    "})"
   ]
  },
  {
   "cell_type": "code",
   "execution_count": 5,
   "id": "5fc7cb4f",
   "metadata": {},
   "outputs": [],
   "source": [
    "def enlarge_block(block):\n",
    "    \"\"\"This function enlarges the provided Block by a single site, returning an\n",
    "    EnlargedBlock.\n",
    "    \"\"\"\n",
    "    mblock = block.basis_size\n",
    "    o = block.operator_dict\n",
    "\n",
    "    # Create the new operators for the enlarged block.  Our basis becomes a\n",
    "    # Kronecker product of the Block basis and the single-site basis.  NOTE:\n",
    "    # `kron` uses the tensor product convention making blocks of the second\n",
    "    # array scaled by the first.  As such, we adopt this convention for\n",
    "    # Kronecker products throughout the code.\n",
    "    enlarged_operator_dict = {\n",
    "        \"H\": kron(o[\"H\"], identity(model_d)) + kron(identity(mblock), H1) + H2(o[\"conn_Sz\"], o[\"conn_Sp\"], Sz1, Sp1),\n",
    "        \"conn_Sz\": kron(identity(mblock), Sz1),\n",
    "        \"conn_Sp\": kron(identity(mblock), Sp1),\n",
    "    }\n",
    "\n",
    "    return EnlargedBlock(length=(block.length + 1),\n",
    "                         basis_size=(block.basis_size * model_d),\n",
    "                         operator_dict=enlarged_operator_dict)\n",
    "\n",
    "def rotate_and_truncate(operator, transformation_matrix):\n",
    "    \"\"\"Transforms the operator to the new (possibly truncated) basis given by\n",
    "    `transformation_matrix`.\n",
    "    \"\"\"\n",
    "    return csr_matrix.getH(transformation_matrix)@operator@transformation_matrix"
   ]
  },
  {
   "cell_type": "code",
   "execution_count": 6,
   "id": "20d2d77b",
   "metadata": {},
   "outputs": [],
   "source": [
    "def single_dmrg_step(sys, env, m):\n",
    "    \"\"\"Performs a single DMRG step using `sys` as the system and `env` as the\n",
    "    environment, keeping a maximum of `m` states in the new basis.\n",
    "    \"\"\"\n",
    "    assert is_valid_block(sys)\n",
    "    assert is_valid_block(env)\n",
    "\n",
    "    # Enlarge each block by a single site.\n",
    "    sys_enl = enlarge_block(sys)\n",
    "    if sys is env:  # no need to recalculate a second time\n",
    "        env_enl = sys_enl\n",
    "    else:\n",
    "        env_enl = enlarge_block(env)\n",
    "\n",
    "    assert is_valid_enlarged_block(sys_enl)\n",
    "    assert is_valid_enlarged_block(env_enl)\n",
    "\n",
    "    # Construct the full superblock Hamiltonian.\n",
    "    m_sys_enl = sys_enl.basis_size\n",
    "    m_env_enl = env_enl.basis_size\n",
    "    sys_enl_op = sys_enl.operator_dict\n",
    "    env_enl_op = env_enl.operator_dict\n",
    "    superblock_hamiltonian = kron(sys_enl_op[\"H\"], identity(m_env_enl)) + kron(identity(m_sys_enl), env_enl_op[\"H\"]) + \\\n",
    "                             H2(sys_enl_op[\"conn_Sz\"], sys_enl_op[\"conn_Sp\"], env_enl_op[\"conn_Sz\"], env_enl_op[\"conn_Sp\"])\n",
    "\n",
    "    # Call ARPACK to find the superblock ground state.  (\"SA\" means find the\n",
    "    # \"smallest in amplitude\" eigenvalue.)\n",
    "    (energy,), psi0 = eigsh(superblock_hamiltonian, k=1, which=\"SA\")\n",
    "\n",
    "    # Construct the reduced density matrix of the system by tracing out the\n",
    "    # environment\n",
    "    #\n",
    "    # We want to make the (sys, env) indices correspond to (row, column) of a\n",
    "    # matrix, respectively.  Since the environment (column) index updates most\n",
    "    # quickly in our Kronecker product structure, psi0 is thus row-major (\"C\n",
    "    # style\").\n",
    "    psi0 = psi0.reshape([sys_enl.basis_size, -1], order=\"C\")\n",
    "    rho = csr_matrix(psi0)@csr_matrix.getH(psi0)\n",
    "\n",
    "    # Diagonalize the reduced density matrix and sort the eigenvectors by\n",
    "    # eigenvalue.\n",
    "    evals, evecs = np.linalg.eigh(rho)\n",
    "    possible_eigenstates = []\n",
    "    for eval, evec in zip(evals, evecs.transpose()):\n",
    "        possible_eigenstates.append((eval, evec))\n",
    "    possible_eigenstates.sort(reverse=True, key=lambda x: x[0])  # largest eigenvalue first\n",
    "\n",
    "    # Build the transformation matrix from the `m` overall most significant\n",
    "    # eigenvectors.\n",
    "    my_m = min(len(possible_eigenstates), m)\n",
    "    transformation_matrix = np.zeros((sys_enl.basis_size, my_m), dtype='d', order='F')\n",
    "    for i, (eval, evec) in enumerate(possible_eigenstates[:my_m]):\n",
    "        transformation_matrix[:, i] = evec\n",
    "\n",
    "    truncation_error = 1 - sum([x[0] for x in possible_eigenstates[:my_m]])\n",
    "    print(\"truncation error:\", truncation_error)\n",
    "\n",
    "    # Rotate and truncate each operator.\n",
    "    new_operator_dict = {}\n",
    "    for name, op in sys_enl.operator_dict.items():\n",
    "        new_operator_dict[name] = rotate_and_truncate(op, transformation_matrix)\n",
    "\n",
    "    newblock = Block(length=sys_enl.length,\n",
    "                     basis_size=my_m,\n",
    "                     operator_dict=new_operator_dict)\n",
    "\n",
    "    return newblock, energy, truncation_error, psi0, superblock_hamiltonian"
   ]
  },
  {
   "cell_type": "code",
   "execution_count": 8,
   "id": "30cee920",
   "metadata": {},
   "outputs": [
    {
     "name": "stdout",
     "output_type": "stream",
     "text": [
      "L = 4\n",
      "truncation error: 0.0\n",
      "E/L = -0.8453049750640259\n",
      "L = 6\n",
      "truncation error: -8.881784197001252e-16\n",
      "E/L = -0.9208012317348633\n",
      "L = 8\n",
      "truncation error: -2.220446049250313e-15\n",
      "E/L = -0.9615496472105414\n",
      "L = 10\n",
      "truncation error: 7.771561172376096e-16\n",
      "E/L = -0.9863930552563671\n"
     ]
    }
   ],
   "source": [
    "L=10\n",
    "m=300\n",
    "block = initial_block\n",
    "while 2 * block.length < L:\n",
    "    print(\"L =\", block.length * 2 + 2)\n",
    "    block, energy, truncation_error, psi0, superblock_hamiltonian = single_dmrg_step(block, block, m=m)\n",
    "    print(\"E/L =\", energy / (block.length * 2))\n",
    "    #print(\"truncation_error\", truncation_error)"
   ]
  },
  {
   "cell_type": "code",
   "execution_count": 18,
   "id": "64dc66c3",
   "metadata": {},
   "outputs": [
    {
     "name": "stderr",
     "output_type": "stream",
     "text": [
      "C:\\Users\\Qiancan-Chen\\anaconda3\\lib\\site-packages\\scipy\\sparse\\bsr.py:299: RuntimeWarning: overflow encountered in int_scalars\n",
      "  return int(self.indptr[-1] * R * C)\n"
     ]
    },
    {
     "data": {
      "text/plain": [
       "<59049x59049 sparse matrix of type '<class 'numpy.float64'>'\n",
       "\twith -808182895 stored elements (blocksize = 243x243) in Block Sparse Row format>"
      ]
     },
     "execution_count": 18,
     "metadata": {},
     "output_type": "execute_result"
    }
   ],
   "source": [
    "kron(block.operator_dict['H'],block.operator_dict['H'])"
   ]
  },
  {
   "cell_type": "code",
   "execution_count": 19,
   "id": "d19387a9",
   "metadata": {},
   "outputs": [
    {
     "data": {
      "text/plain": [
       "3486784401"
      ]
     },
     "execution_count": 19,
     "metadata": {},
     "output_type": "execute_result"
    }
   ],
   "source": [
    "59049*59049"
   ]
  },
  {
   "cell_type": "code",
   "execution_count": 10,
   "id": "cd3b8928",
   "metadata": {},
   "outputs": [
    {
     "data": {
      "text/plain": [
       "array([-2.39685609e-17,  1.99827140e-16,  3.54988304e-01, -4.33263217e-17,\n",
       "        2.03928413e-16, -3.29223532e-01,  3.01766608e-17, -8.61767250e-02,\n",
       "       -9.77489551e-17,  2.92109995e-17, -4.59308605e-06, -7.55664085e-16,\n",
       "        1.01572133e-02,  4.81360124e-17,  3.77163409e-17,  2.16253864e-06,\n",
       "        9.59734281e-18,  2.17934244e-16, -1.28999021e-17, -1.28286519e-16,\n",
       "        6.39084344e-04,  7.12902881e-17,  1.12558985e-03, -1.90621166e-17,\n",
       "       -2.51906945e-17,  3.09468474e-07, -1.37769838e-15,  7.80352331e-18,\n",
       "       -9.10567403e-18, -5.67457114e-04,  2.00176929e-17,  5.61941536e-05,\n",
       "       -8.79299240e-16, -2.76982570e-17, -3.82299404e-04, -6.46240737e-17,\n",
       "        5.49105647e-16,  2.72845238e-05,  2.30281124e-13, -8.11243371e-18,\n",
       "       -6.74299665e-07,  1.39223408e-15, -4.63790268e-16, -1.41296447e-13,\n",
       "        5.06071333e-05, -1.91618292e-16, -3.93318489e-14, -2.27654927e-05,\n",
       "       -7.66023744e-17, -2.58777691e-15, -6.71021186e-05, -2.71446915e-17,\n",
       "       -5.54013154e-07,  4.19225464e-17, -2.99148567e-17,  1.15903851e-05,\n",
       "        2.47128503e-15,  1.17797722e-16, -7.12159475e-16,  2.12456975e-05,\n",
       "        1.76961107e-05, -2.45877326e-16,  6.23609839e-16,  6.24021820e-16,\n",
       "       -7.34481688e-17,  5.17518492e-15,  2.80578564e-17, -1.50046796e-06,\n",
       "       -5.18490103e-17,  7.59730045e-18, -1.28599811e-05, -8.73432414e-17,\n",
       "        7.09276290e-19,  3.06817386e-17,  4.47025530e-06, -2.67492272e-17,\n",
       "        1.54418308e-07, -1.12750364e-16,  4.12950646e-14, -1.56333516e-07,\n",
       "        5.00556511e-15, -1.33118917e-17,  9.09591809e-17, -1.06051629e-06,\n",
       "        1.17191810e-16, -3.29879119e-06, -2.13417210e-18,  4.77606137e-16,\n",
       "       -1.20822082e-06, -6.37682690e-14,  9.83581694e-15,  1.04661907e-14,\n",
       "       -4.07678469e-14,  1.08375329e-06, -2.39373280e-17, -3.96244257e-15,\n",
       "        4.55292613e-14,  3.06277559e-14,  4.79492028e-14, -3.20825765e-07,\n",
       "       -1.58985434e-13,  1.09313107e-13, -1.03351042e-13,  3.83865466e-07,\n",
       "        6.63137805e-14,  4.14635307e-15, -3.10491822e-06,  9.64150099e-14,\n",
       "       -1.49336371e-15, -6.58317768e-15,  1.16855022e-05,  5.87964945e-15,\n",
       "       -1.97942438e-13,  1.11874645e-05,  3.51437084e-14, -1.66494149e-12,\n",
       "       -8.57066572e-14, -2.83519364e-16, -2.32598407e-16, -1.03274981e-15,\n",
       "        1.04396829e-13,  6.82724794e-07, -5.73704380e-15, -3.30896554e-14,\n",
       "       -2.34520737e-06, -1.12591302e-12,  1.70132722e-13, -1.61621723e-13,\n",
       "       -2.87179190e-13, -6.99523440e-07, -3.09480737e-11, -7.62007192e-12,\n",
       "        1.85383714e-14, -5.56288345e-12, -3.67408838e-06,  7.82902053e-15,\n",
       "       -3.44484015e-12,  5.57666545e-06,  4.85471966e-16,  5.30347275e-07,\n",
       "       -4.67489826e-13,  1.49747766e-12,  9.04405956e-07, -9.72193601e-12,\n",
       "        1.88294502e-15, -6.85164257e-13, -1.86744300e-06,  7.46238629e-13,\n",
       "       -8.42126446e-14,  2.12148700e-13, -5.75034257e-07, -1.32837359e-11,\n",
       "       -2.32186201e-11,  1.52442529e-14,  6.53915791e-07, -3.59750991e-12,\n",
       "        3.99503526e-12, -1.84273168e-08, -2.67591460e-11, -6.53385436e-12,\n",
       "       -8.52812093e-12,  2.24378926e-06, -3.52747215e-11, -4.50538842e-09,\n",
       "       -1.66413993e-06, -8.81150237e-17,  5.74724708e-07,  3.93123838e-14,\n",
       "       -2.62767819e-10, -1.36180371e-06,  6.71343091e-09,  1.25407393e-15,\n",
       "       -2.65805092e-08,  1.22942024e-15, -1.85948955e-09,  4.94352706e-07,\n",
       "        2.59854082e-09, -5.96435732e-09,  1.34824550e-10,  1.37611652e-07,\n",
       "        9.72689082e-10,  2.41104582e-09,  1.36774840e-07, -5.84760475e-08,\n",
       "       -4.65061518e-11,  5.20990604e-09, -1.67870345e-11,  1.34419542e-07,\n",
       "        2.30329054e-11, -1.19046962e-13, -1.13184742e-07, -6.09120632e-13,\n",
       "       -5.59905903e-12, -1.05543416e-12, -6.08854672e-12,  2.91870738e-10,\n",
       "       -3.20053999e-11, -1.13329229e-10, -2.21084082e-07, -2.50148795e-09,\n",
       "       -4.39347910e-09, -3.74661636e-12,  2.43112634e-12,  3.72619666e-12,\n",
       "        1.38922221e-11, -9.02051812e-12, -1.38265139e-11, -3.15612909e-11,\n",
       "        6.02137130e-11, -2.21631230e-08, -1.39941500e-12, -1.02411413e-08,\n",
       "        1.29614974e-12, -1.38012132e-11, -3.96791220e-09,  1.49287999e-11,\n",
       "        2.28321347e-08, -1.68484133e-10, -2.46744587e-10,  4.95011494e-09,\n",
       "       -4.26795842e-09, -6.18836508e-09, -2.59095595e-09, -1.47883502e-10,\n",
       "       -2.13417643e-10,  1.99970196e-14,  1.98718407e-15,  3.03829322e-15,\n",
       "        3.37410185e-14, -1.20253894e-14, -1.75037220e-14, -5.57538460e-16,\n",
       "       -1.59156542e-15, -2.25701057e-15, -8.04647848e-16,  2.22451622e-16,\n",
       "        2.81416742e-16, -8.31660454e-15,  2.55132427e-16,  3.28757486e-16,\n",
       "       -8.15506729e-11,  5.60895723e-11,  8.12242004e-11])"
      ]
     },
     "execution_count": 10,
     "metadata": {},
     "output_type": "execute_result"
    }
   ],
   "source": [
    "psi0[0]"
   ]
  },
  {
   "cell_type": "code",
   "execution_count": 13,
   "id": "986e4f87",
   "metadata": {},
   "outputs": [
    {
     "data": {
      "text/plain": [
       "array([[-4.41806075e+00,  1.14560902e-09,  1.79795386e-15, ...,\n",
       "        -2.81336761e-06,  1.21288734e-06, -9.40453710e-06],\n",
       "       [ 1.14560902e-09, -4.41786075e+00,  2.94481821e-16, ...,\n",
       "        -1.31947440e-06,  2.90271304e-06, -1.03456227e-06],\n",
       "       [ 1.79795386e-15,  2.94481821e-16, -3.59317355e+00, ...,\n",
       "         2.45294374e-06,  1.19460472e-07, -4.81427444e-05],\n",
       "       ...,\n",
       "       [-2.81336761e-06, -1.31947440e-06,  2.45294374e-06, ...,\n",
       "         1.01503190e+00, -8.45011488e-02, -4.12286312e-02],\n",
       "       [ 1.21288734e-06,  2.90271304e-06,  1.19460472e-07, ...,\n",
       "        -8.45011488e-02,  7.85475991e-01, -4.01300288e-04],\n",
       "       [-9.40453710e-06, -1.03456227e-06, -4.81427444e-05, ...,\n",
       "        -4.12286312e-02, -4.01300288e-04,  4.76530250e-01]])"
      ]
     },
     "execution_count": 13,
     "metadata": {},
     "output_type": "execute_result"
    }
   ],
   "source": [
    "block.operator_dict['H']"
   ]
  },
  {
   "cell_type": "code",
   "execution_count": null,
   "id": "94e5cc4d",
   "metadata": {},
   "outputs": [],
   "source": [
    "# Enlarge each block by a single site.\n",
    "sys_enl = enlarge_block(block)\n",
    "env_enl = sys_enl\n",
    "env_enl = enlarge_block(block)\n",
    "\n",
    "\n",
    "# Construct the full superblock Hamiltonian.\n",
    "m_sys_enl = sys_enl.basis_size\n",
    "m_env_enl = env_enl.basis_size\n",
    "sys_enl_op = sys_enl.operator_dict\n",
    "env_enl_op = env_enl.operator_dict\n",
    "superblock_hamiltonian = kron(sys_enl_op[\"H\"], identity(m_env_enl)) + kron(identity(m_sys_enl), env_enl_op[\"H\"]) + \\\n",
    "                         H2(sys_enl_op[\"conn_Sz\"], sys_enl_op[\"conn_Sp\"], env_enl_op[\"conn_Sz\"], env_enl_op[\"conn_Sp\"])\n",
    "kron(sys_enl_op[\"H\"], identity(m_env_enl)) + kron(identity(m_sys_enl), env_enl_op[\"H\"]) + \\\n",
    "                         H2(sys_enl_op[\"conn_Sz\"], sys_enl_op[\"conn_Sp\"], env_enl_op[\"conn_Sz\"], env_enl_op[\"conn_Sp\"])"
   ]
  },
  {
   "cell_type": "code",
   "execution_count": 15,
   "id": "913936b7",
   "metadata": {},
   "outputs": [
    {
     "ename": "NameError",
     "evalue": "name 'sys_enl_op' is not defined",
     "output_type": "error",
     "traceback": [
      "\u001b[1;31m---------------------------------------------------------------------------\u001b[0m",
      "\u001b[1;31mNameError\u001b[0m                                 Traceback (most recent call last)",
      "Input \u001b[1;32mIn [15]\u001b[0m, in \u001b[0;36m<cell line: 1>\u001b[1;34m()\u001b[0m\n\u001b[1;32m----> 1\u001b[0m kron(\u001b[43msys_enl_op\u001b[49m[\u001b[38;5;124m\"\u001b[39m\u001b[38;5;124mH\u001b[39m\u001b[38;5;124m\"\u001b[39m], identity(m_env_enl))\n",
      "\u001b[1;31mNameError\u001b[0m: name 'sys_enl_op' is not defined"
     ]
    }
   ],
   "source": [
    "kron(sys_enl_op[\"H\"], identity(m_env_enl))"
   ]
  },
  {
   "cell_type": "code",
   "execution_count": 14,
   "id": "d98d0069",
   "metadata": {},
   "outputs": [
    {
     "ename": "NameError",
     "evalue": "name 'sys_enl_op' is not defined",
     "output_type": "error",
     "traceback": [
      "\u001b[1;31m---------------------------------------------------------------------------\u001b[0m",
      "\u001b[1;31mNameError\u001b[0m                                 Traceback (most recent call last)",
      "Input \u001b[1;32mIn [14]\u001b[0m, in \u001b[0;36m<cell line: 1>\u001b[1;34m()\u001b[0m\n\u001b[1;32m----> 1\u001b[0m \u001b[43msys_enl_op\u001b[49m[\u001b[38;5;124m\"\u001b[39m\u001b[38;5;124mH\u001b[39m\u001b[38;5;124m\"\u001b[39m]\n",
      "\u001b[1;31mNameError\u001b[0m: name 'sys_enl_op' is not defined"
     ]
    }
   ],
   "source": [
    "sys_enl_op[\"H\"]"
   ]
  },
  {
   "cell_type": "code",
   "execution_count": null,
   "id": "20d90084",
   "metadata": {},
   "outputs": [],
   "source": [
    "identity(m_env_enl)"
   ]
  },
  {
   "cell_type": "code",
   "execution_count": null,
   "id": "3e00e781",
   "metadata": {},
   "outputs": [],
   "source": [
    "243*243"
   ]
  },
  {
   "cell_type": "code",
   "execution_count": null,
   "id": "4c257396",
   "metadata": {},
   "outputs": [],
   "source": [
    "block.operator_dict['H']"
   ]
  },
  {
   "cell_type": "code",
   "execution_count": null,
   "id": "eb8e3365",
   "metadata": {},
   "outputs": [],
   "source": [
    "sparse.issparse(superblock_hamiltonian)"
   ]
  },
  {
   "cell_type": "code",
   "execution_count": null,
   "id": "62820294",
   "metadata": {},
   "outputs": [],
   "source": [
    "6561*6561"
   ]
  },
  {
   "cell_type": "code",
   "execution_count": null,
   "id": "4c983aeb",
   "metadata": {},
   "outputs": [],
   "source": [
    "from scipy import sparse"
   ]
  },
  {
   "cell_type": "code",
   "execution_count": null,
   "id": "7d7f6cc4",
   "metadata": {},
   "outputs": [],
   "source": [
    "block.operator_dict['H'] = sparse.csr_matrix(block.operator_dict['H'])"
   ]
  },
  {
   "cell_type": "code",
   "execution_count": null,
   "id": "342bfce5",
   "metadata": {},
   "outputs": [],
   "source": [
    "a =  np.array([7.771561172376096e-16],dtype='d')"
   ]
  },
  {
   "cell_type": "code",
   "execution_count": 17,
   "id": "05232664",
   "metadata": {},
   "outputs": [
    {
     "ename": "NameError",
     "evalue": "name 'Sp2' is not defined",
     "output_type": "error",
     "traceback": [
      "\u001b[1;31m---------------------------------------------------------------------------\u001b[0m",
      "\u001b[1;31mNameError\u001b[0m                                 Traceback (most recent call last)",
      "Input \u001b[1;32mIn [17]\u001b[0m, in \u001b[0;36m<cell line: 1>\u001b[1;34m()\u001b[0m\n\u001b[1;32m----> 1\u001b[0m kron(Sp1, csr_matrix\u001b[38;5;241m.\u001b[39mgetH(\u001b[43mSp2\u001b[49m))\n",
      "\u001b[1;31mNameError\u001b[0m: name 'Sp2' is not defined"
     ]
    }
   ],
   "source": [
    "kron(Sp1, csr_matrix.getH(Sp2))"
   ]
  },
  {
   "cell_type": "code",
   "execution_count": null,
   "id": "d2a7ab17",
   "metadata": {},
   "outputs": [],
   "source": []
  }
 ],
 "metadata": {
  "kernelspec": {
   "display_name": "Python 3 (ipykernel)",
   "language": "python",
   "name": "python3"
  },
  "language_info": {
   "codemirror_mode": {
    "name": "ipython",
    "version": 3
   },
   "file_extension": ".py",
   "mimetype": "text/x-python",
   "name": "python",
   "nbconvert_exporter": "python",
   "pygments_lexer": "ipython3",
   "version": "3.9.12"
  }
 },
 "nbformat": 4,
 "nbformat_minor": 5
}
