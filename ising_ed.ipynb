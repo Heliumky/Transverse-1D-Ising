{
 "cells": [
  {
   "cell_type": "code",
   "execution_count": 61,
   "id": "fabf3c5d-191a-4675-99ad-6b6c7020efe7",
   "metadata": {},
   "outputs": [],
   "source": [
    "#!/usr/bin/env python\n",
    "#\n",
    "# Simple DMRG tutorial.  This code contains a basic implementation of the\n",
    "# infinite system algorithm\n",
    "#\n",
    "# Copyright 2013 James R. Garrison and Ryan V. Mishmash.\n",
    "# Open source under the MIT license.  Source code at\n",
    "# <https://github.com/simple-dmrg/simple-dmrg/>\n",
    "\n",
    "# This code will run under any version of Python >= 2.6.  The following line\n",
    "# provides consistency between python2 and python3.\n",
    "from __future__ import print_function, division  # requires Python >= 2.6\n",
    "\n",
    "# numpy and scipy imports\n",
    "import numpy as np\n",
    "from scipy.sparse import kron, identity, csr_matrix\n",
    "from scipy.sparse.linalg import eigsh,eigs  # Lanczos routine from ARPACK\n",
    "from scipy.linalg import eigh, norm, svd, eig\n",
    "# We will use python's \"namedtuple\" to represent the Block and EnlargedBlock\n",
    "# objects\n",
    "from collections import namedtuple\n",
    "import matplotlib.pyplot as plt"
   ]
  },
  {
   "cell_type": "code",
   "execution_count": 62,
   "id": "9d7410a2-900e-41c0-a9b3-12fd5e23d798",
   "metadata": {},
   "outputs": [],
   "source": [
    "#system block\n",
    "SysBlock = namedtuple(\"SysBlock\", [\"length\", \"basis_size\", \"operator_dict\"])\n",
    "EnlargedsysBlock = namedtuple(\"EnlargedsysBlock\", [\"length\", \"basis_size\", \"operator_dict\"])\n",
    "\n",
    "#env block\n",
    "EnvBlock = namedtuple(\"EnvBlock\", [\"length\", \"basis_size\", \"operator_dict\"])\n",
    "EnlargedenvBlock = namedtuple(\"EnlargedenvBlock\", [\"length\", \"basis_size\", \"operator_dict\"])"
   ]
  },
  {
   "cell_type": "code",
   "execution_count": 63,
   "id": "e571d47a-b290-4e41-99ee-8f00acad1000",
   "metadata": {},
   "outputs": [],
   "source": [
    "# Model-specific code for the Heisenberg XXZ chain\n",
    "model_d = 2  # single-site basis size\n",
    "\n",
    "Sz1 = 2*np.array([[0.5, 0], [0, -0.5]], dtype='d')  # single-site S^z\n",
    "Sx1 = 2*np.array([[0, 0.5], [0.5, 0]], dtype='d')  # single-site S^x\n"
   ]
  },
  {
   "cell_type": "code",
   "execution_count": 64,
   "id": "f0098f24-c3d8-44a6-8bfd-3a74c23e75c3",
   "metadata": {},
   "outputs": [],
   "source": [
    "def enlarge_sysblock(J,h,block):\n",
    "    \"\"\"This function enlarges the provided Block by a single site, returning an\n",
    "    EnlargedBlock.\n",
    "    \"\"\"\n",
    "    mblock = block.basis_size\n",
    "    o = block.operator_dict\n",
    "    # Create the new operators for the enlarged block.  Our basis becomes a\n",
    "    # Kronecker product of the Block basis and the single-site basis.  NOTE:\n",
    "    # `kron` uses the tensor product convention making blocks of the second\n",
    "    # array scaled by the first.  As such, we adopt this convention for\n",
    "    # Kronecker products throughout the code.\n",
    "    enlarged_operator_dict = {\n",
    "        \"H\": kron(o[\"H\"], identity(model_d)) +h*kron(identity(mblock),Sx1)+J*kron(o[\"conn_Sz\"],Sz1),\n",
    "        \"Magz\":kron(o[\"Magz\"], identity(model_d)) + kron(identity(mblock),Sz1),\n",
    "        \"Magx\":kron(o[\"Magx\"], identity(model_d)) + kron(identity(mblock),Sx1),\n",
    "        \"conn_Sz\": kron(identity(mblock), Sz1),\n",
    "        \"conn_Sx\": kron(identity(mblock), Sx1),\n",
    "    }\n",
    "\n",
    "    return EnlargedsysBlock(length=(block.length + 1),\n",
    "                         basis_size=(block.basis_size * model_d),\n",
    "                         operator_dict=enlarged_operator_dict)\n"
   ]
  },
  {
   "cell_type": "code",
   "execution_count": 65,
   "id": "ef13f285-9194-490d-8dd2-7c554d0657d2",
   "metadata": {},
   "outputs": [],
   "source": [
    "def enlarge_envblock(J,h,block):\n",
    "    \"\"\"This function enlarges the provided Block by a single site, returning an\n",
    "    EnlargedBlock.\n",
    "    \"\"\"\n",
    "    mblock = block.basis_size\n",
    "    o = block.operator_dict\n",
    "    # Create the new operators for the enlarged block.  Our basis becomes a\n",
    "    # Kronecker product of the Block basis and the single-site basis.  NOTE:\n",
    "    # `kron` uses the tensor product convention making blocks of the second\n",
    "    # array scaled by the first.  As such, we adopt this convention for\n",
    "    # Kronecker products throughout the code.\n",
    "    enlarged_operator_dict = {\n",
    "        #\"H\": kron(identity(model_d),o[\"H\"])+h*kron(Sx1,identity(np.size(o[\"conn_Sx\"],0)))+J*kron(Sz1,o[\"conn_Sz\"]),\n",
    "        \"H\": kron(identity(model_d),o[\"H\"])+h*kron(Sx1,identity(mblock))+J*kron(Sz1,o[\"conn_Sz\"]),\n",
    "        \"Magz\":kron(identity(model_d),o[\"Magz\"]) + kron(Sz1,identity(mblock)),\n",
    "        \"Magx\":kron(identity(model_d),o[\"Magx\"]) + kron(Sx1,identity(mblock)),\n",
    "        #\"H\": kron(identity(model_d),o[\"H\"]) - h*kron(identity(model_d),o[\"conn_Sx\"])-J*kron(o[\"conn_Sz\"],Sz1),\n",
    "        \"conn_Sz\": kron(Sz1,identity(mblock)),\n",
    "        \"conn_Sx\": kron(Sx1,identity(mblock)),\n",
    "    }\n",
    "\n",
    "    return EnlargedenvBlock(length=(block.length + 1),\n",
    "                         basis_size=(block.basis_size * model_d),\n",
    "                         operator_dict=enlarged_operator_dict)\n"
   ]
  },
  {
   "cell_type": "code",
   "execution_count": 84,
   "id": "8fd42883-999d-4a11-bd6b-1e871f54b7d5",
   "metadata": {},
   "outputs": [],
   "source": [
    "def single_ed_step(J,h,sys, env):\n",
    "    \"\"\"Performs a single DMRG step using `sys` as the system and `env` as the\n",
    "    environment, keeping a maximum of `m` states in the new basis.\n",
    "    \"\"\"\n",
    "    #assert is_valid_block(sys)\n",
    "    #assert is_valid_block(env)\n",
    "\n",
    "    # Enlarge each block by a single site.\n",
    "    sys_enl = enlarge_sysblock(J,h,sys)\n",
    "    env_enl = enlarge_envblock(J,h,env)\n",
    "    \n",
    "#     if sys is env:  # no need to recalculate a second time\n",
    "#         env_enl = sys_enl\n",
    "#     else:\n",
    "#         env_enl = enlarge_block(env)\n",
    "\n",
    "#     assert is_valid_enlarged_block(sys_enl)\n",
    "#     assert is_valid_enlarged_block(env_enl)\n",
    "\n",
    "    # Construct the full superblock Hamiltonian.\n",
    "    m_sys_enl = sys_enl.basis_size\n",
    "    m_env_enl = env_enl.basis_size\n",
    "    sys_enl_op = sys_enl.operator_dict\n",
    "    env_enl_op = env_enl.operator_dict\n",
    "    superblock_hamiltonian = kron(sys_enl_op[\"H\"], identity(m_env_enl)) + kron(identity(m_sys_enl), env_enl_op[\"H\"]) \\\n",
    "                             +J*kron(sys_enl_op[\"conn_Sz\"], env_enl_op[\"conn_Sz\"])\n",
    "    superblock_magz = kron(sys_enl_op[\"Magz\"], identity(m_env_enl)) + kron(identity(m_sys_enl), env_enl_op[\"Magz\"])\n",
    "    superblock_magx = kron(sys_enl_op[\"Magx\"], identity(m_env_enl)) + kron(identity(m_sys_enl), env_enl_op[\"Magx\"])\n",
    "    # Call ARPACK to find the superblock ground state.  (\"SA\" means find the\n",
    "    # \"smallest in amplitude\" eigenvalue.)\n",
    "    energy, psi0 = eigsh(superblock_hamiltonian, k=1, which=\"SA\", tol=0, maxiter= (m_sys_enl**2)*100)\n",
    "    expect_magz = psi0.T@superblock_magz@psi0\n",
    "    expect_magx = psi0.T@superblock_magx@psi0\n",
    "    sysblock = sys_enl\n",
    "    envblock = env_enl\n",
    "    return sysblock, envblock, energy, expect_magz, expect_magx, psi0"
   ]
  },
  {
   "cell_type": "code",
   "execution_count": 96,
   "id": "bcd9f446-54a7-446e-9484-05217b3ff91e",
   "metadata": {},
   "outputs": [],
   "source": [
    "def infinite_system_algorithm(J,h,L):\n",
    "    H1 = h*Sx1\n",
    "    Magz1 = Sz1\n",
    "    Magx1 = Sx1\n",
    "    initial_block = SysBlock(length=1, basis_size=model_d, operator_dict={\n",
    "        \"H\": H1,\n",
    "        \"Magz\":Magz1,\n",
    "        \"Magx\":Magx1,\n",
    "        \"conn_Sz\": Sz1,\n",
    "        \"conn_Sx\": Sx1,\n",
    "        })\n",
    "    sysblock = initial_block\n",
    "    envblock = initial_block\n",
    "    # Repeatedly enlarge the system by performing a single DMRG step, using a\n",
    "    # reflection of the current block as the environment.\n",
    "    while 2 * sysblock.length < L:\n",
    "        #print(\"L =\", block.length * 2 + 2)\n",
    "        sysblock, envblock, energy, expect_magz, expect_magx, psi0 = single_ed_step(J,h,sysblock, envblock)\n",
    "    #print(\"E/L =\", energy / (block.length * 2))\n",
    "    #print(\"Magz/L =\", expect_magz / (block.length * 2))\n",
    "    #print(\"Magx/L =\", expect_magx / (block.length * 2))\n",
    "    #print(\"L =\", block.length * 2)\n",
    "    EXP_MAGZ = expect_magz / (sysblock.length * 2)\n",
    "    EXP_MAGX = expect_magx / (sysblock.length * 2)\n",
    "    return energy, EXP_MAGZ,EXP_MAGX, psi0"
   ]
  },
  {
   "cell_type": "code",
   "execution_count": 97,
   "id": "467aba45-4490-4506-b492-0a7b51669fb2",
   "metadata": {},
   "outputs": [],
   "source": [
    "disc_point = 20\n",
    "h_arr = np.linspace(0,2,disc_point)\n",
    "fd_arr = np.linspace(0,2,disc_point)\n",
    "magz_arr = np.linspace(0,2,disc_point)\n",
    "magx_arr = np.linspace(0,2,disc_point)\n",
    "for i in range(disc_point):\n",
    "    energy, EXP_MAGZ,EXP_MAGX,psi0 = infinite_system_algorithm(J = -1,h=h_arr[i],L=10)\n",
    "    energy, EXP_MAGZ,EXP_MAGX,ppsi0 = infinite_system_algorithm(J = -1,h=h_arr[i]+0.0001,L=10)\n",
    "    fd_arr[i] = np.linalg.norm(ppsi0.T@psi0)\n",
    "    magz_arr[i] =  EXP_MAGZ\n",
    "    magx_arr[i] =  EXP_MAGX\n",
    "    #ent_s_arr[i] = ent_s\n",
    "    #print(\"Magz =\", EXP_MAGZ[0])\n",
    "    #print(\"Magx =\", EXP_MAGX[0])"
   ]
  },
  {
   "cell_type": "code",
   "execution_count": 87,
   "id": "a7825d82-23ea-4271-b95a-d9cf23849a7b",
   "metadata": {},
   "outputs": [
    {
     "data": {
      "text/plain": [
       "16384"
      ]
     },
     "execution_count": 87,
     "metadata": {},
     "output_type": "execute_result"
    }
   ],
   "source": [
    "2**14"
   ]
  },
  {
   "cell_type": "code",
   "execution_count": 82,
   "id": "ba34e3b5-9272-4504-ad5c-66171a9a70cb",
   "metadata": {},
   "outputs": [
    {
     "data": {
      "text/plain": [
       "array([[0.99999986]])"
      ]
     },
     "execution_count": 82,
     "metadata": {},
     "output_type": "execute_result"
    }
   ],
   "source": [
    "ppsi0.T@psi0"
   ]
  },
  {
   "cell_type": "code",
   "execution_count": 51,
   "id": "4d807d08-255c-4928-a930-a3b67da9a281",
   "metadata": {},
   "outputs": [
    {
     "data": {
      "text/plain": [
       "array([[-0.51617604],\n",
       "       [ 0.07742642],\n",
       "       [ 0.03958426],\n",
       "       ...,\n",
       "       [ 0.06057156],\n",
       "       [ 0.11847737],\n",
       "       [-0.78984908]])"
      ]
     },
     "execution_count": 51,
     "metadata": {},
     "output_type": "execute_result"
    }
   ],
   "source": [
    "psi0"
   ]
  },
  {
   "cell_type": "code",
   "execution_count": 101,
   "id": "bf468301-c4f1-4c30-b35d-289f57383511",
   "metadata": {},
   "outputs": [
    {
     "data": {
      "text/plain": [
       "array([-2.11402607])"
      ]
     },
     "execution_count": 101,
     "metadata": {},
     "output_type": "execute_result"
    }
   ],
   "source": [
    "energy/10"
   ]
  },
  {
   "cell_type": "code",
   "execution_count": 74,
   "id": "e2684f97-4104-49aa-8cfc-94d3f7a74859",
   "metadata": {},
   "outputs": [
    {
     "data": {
      "text/plain": [
       "array([0.        , 0.10526316, 0.21052632, 0.31578947, 0.42105263,\n",
       "       0.52631579, 0.63157895, 0.73684211, 0.84210526, 0.94736842,\n",
       "       1.05263158, 1.15789474, 1.26315789, 1.36842105, 1.47368421,\n",
       "       1.57894737, 1.68421053, 1.78947368, 1.89473684, 2.        ])"
      ]
     },
     "execution_count": 74,
     "metadata": {},
     "output_type": "execute_result"
    }
   ],
   "source": [
    "np.linspace(0,2,disc_point)"
   ]
  },
  {
   "cell_type": "code",
   "execution_count": 99,
   "id": "4b61faf8-95d4-47d7-86cb-6f5dbb9a2dbe",
   "metadata": {},
   "outputs": [
    {
     "data": {
      "text/plain": [
       "Text(0.5, 0.98, 'Infinite DMRG Phase Diagram')"
      ]
     },
     "execution_count": 99,
     "metadata": {},
     "output_type": "execute_result"
    },
    {
     "data": {
      "image/png": "[encoded data removed]",
      "text/plain": [
       "<Figure size 1080x360 with 3 Axes>"
      ]
     },
     "metadata": {
      "needs_background": "light"
     },
     "output_type": "display_data"
    }
   ],
   "source": [
    "n = 16\n",
    "fig, (fig_magz, fig_magx, fig_fd) = plt.subplots(1,3,figsize=(15, 5), constrained_layout=True, sharey=True)\n",
    "fig_magz.scatter(h_arr,np.abs(magz_arr),label=r'$N= %d$'%n)\n",
    "#fig_magz.set_title(r'M_(z)')\n",
    "fig_magz.set_xlabel(r'$h$')\n",
    "fig_magz.set_ylabel(r'$M_z(h)$')\n",
    "fig_magz.legend()\n",
    "\n",
    "\n",
    "fig_magx.scatter(h_arr,np.abs(magx_arr),label=r'$N= %d$'%n)\n",
    "fig_magx.set_xlabel(r'$h$')\n",
    "fig_magx.set_ylabel(r'$M_x(h)$')\n",
    "#fig_magx.set_title('M_(x)')\n",
    "fig_magx.legend()\n",
    "\n",
    "# fig_ent_s.scatter(h_arr,np.abs(ent_s_arr),label=r'$N= %d$'%n)\n",
    "# fig_ent_s.scatter(h_arr,np.log(2*np.ones(disc_point)),label=r'$ln2$')\n",
    "# fig_ent_s.set_xlabel(r'$h$')\n",
    "# fig_ent_s.set_ylabel(r'$S_{sys}(h)$')\n",
    "# #fig_magx.set_title('M_(x)')\n",
    "# fig_ent_s.legend()\n",
    "\n",
    "fig_fd.scatter(h_arr,np.abs(fd_arr),label=r'$N= %d$'%n)\n",
    "fig_fd.set_xlabel(r'$h$')\n",
    "fig_fd.set_ylabel(r'$FD(h)$')\n",
    "#fig_magx.set_title('M_(x)')\n",
    "fig_fd.legend()\n",
    "\n",
    "fig.suptitle('Infinite DMRG Phase Diagram', fontsize=16)\n",
    "#plt.savefig('Infinite DMRG Phase Diagram N=%d.png'%n, dpi=300, bbox_inches='tight')"
   ]
  },
  {
   "cell_type": "code",
   "execution_count": 53,
   "id": "9b7f8883-ea64-4af2-8168-0073d28a2de8",
   "metadata": {},
   "outputs": [
    {
     "data": {
      "text/plain": [
       "array([0.        , 0.01578947, 0.03157895, 0.04736842, 0.06315789,\n",
       "       0.07894737, 0.09473684, 0.11052632, 0.12631579, 0.14210526,\n",
       "       0.15789474, 0.17368421, 0.18947368, 0.20526316, 0.22105263,\n",
       "       0.23684211, 0.25263158, 0.26842105, 0.28421053, 0.3       ])"
      ]
     },
     "execution_count": 53,
     "metadata": {},
     "output_type": "execute_result"
    }
   ],
   "source": [
    "h_arr"
   ]
  },
  {
   "cell_type": "code",
   "execution_count": null,
   "id": "1c43dde5-b1a1-47b3-90f2-c00105b589c8",
   "metadata": {},
   "outputs": [],
   "source": []
  }
 ],
 "metadata": {
  "kernelspec": {
   "display_name": "Python 3 (ipykernel)",
   "language": "python",
   "name": "python3"
  },
  "language_info": {
   "codemirror_mode": {
    "name": "ipython",
    "version": 3
   },
   "file_extension": ".py",
   "mimetype": "text/x-python",
   "name": "python",
   "nbconvert_exporter": "python",
   "pygments_lexer": "ipython3",
   "version": "3.10.7"
  }
 },
 "nbformat": 4,
 "nbformat_minor": 5
}
