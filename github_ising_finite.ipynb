{
 "cells": [
  {
   "cell_type": "code",
   "execution_count": 1,
   "id": "b11b8a9b",
   "metadata": {},
   "outputs": [],
   "source": [
    "#!/usr/bin/env python\n",
    "#\n",
    "# Simple DMRG tutorial.  This code contains a basic implementation of the\n",
    "# infinite system algorithm\n",
    "#\n",
    "# Copyright 2013 James R. Garrison and Ryan V. Mishmash.\n",
    "# Open source under the MIT license.  Source code at\n",
    "# <https://github.com/simple-dmrg/simple-dmrg/>\n",
    "\n",
    "# This code will run under any version of Python >= 2.6.  The following line\n",
    "# provides consistency between python2 and python3.\n",
    "from __future__ import print_function, division  # requires Python >= 2.6\n",
    "\n",
    "# numpy and scipy imports\n",
    "import numpy as np\n",
    "from scipy.sparse import kron, identity, csr_matrix\n",
    "from scipy.sparse.linalg import eigsh  # Lanczos routine from ARPACK\n",
    "from scipy.linalg import eigh, norm, svd\n",
    "# We will use python's \"namedtuple\" to represent the Block and EnlargedBlock\n",
    "# objects\n",
    "from collections import namedtuple\n",
    "import matplotlib.pyplot as plt"
   ]
  },
  {
   "cell_type": "code",
   "execution_count": 2,
   "id": "a2809620",
   "metadata": {},
   "outputs": [],
   "source": [
    "#system block\n",
    "SysBlock = namedtuple(\"SysBlock\", [\"length\", \"basis_size\", \"operator_dict\"])\n",
    "EnlargedsysBlock = namedtuple(\"EnlargedsysBlock\", [\"length\", \"basis_size\", \"operator_dict\"])\n",
    "\n",
    "#env block\n",
    "EnvBlock = namedtuple(\"EnvBlock\", [\"length\", \"basis_size\", \"operator_dict\"])\n",
    "EnlargedenvBlock = namedtuple(\"EnlargedenvBlock\", [\"length\", \"basis_size\", \"operator_dict\"])"
   ]
  },
  {
   "cell_type": "code",
   "execution_count": 3,
   "id": "0fc34a30",
   "metadata": {},
   "outputs": [],
   "source": [
    "# Model-specific code for the Heisenberg XXZ chain\n",
    "model_d = 2  # single-site basis size\n",
    "\n",
    "Sz1 = 2*np.array([[0.5, 0], [0, -0.5]], dtype='d')  # single-site S^z\n",
    "Sx1 = 2*np.array([[0, 0.5], [0.5, 0]], dtype='d')  # single-site S^x\n"
   ]
  },
  {
   "cell_type": "code",
   "execution_count": 4,
   "id": "c1b29443",
   "metadata": {},
   "outputs": [],
   "source": [
    "def rotate_and_truncate(operator, transformation_matrix):\n",
    "    \"\"\"Transforms the operator to the new (possibly truncated) basis given by\n",
    "    `transformation_matrix`.\n",
    "    \"\"\"\n",
    "    return csr_matrix(csr_matrix.getH(transformation_matrix)@operator@transformation_matrix)"
   ]
  },
  {
   "cell_type": "code",
   "execution_count": 5,
   "id": "3d2cd8af",
   "metadata": {},
   "outputs": [],
   "source": [
    "def enlarge_sysblock(J,h,block):\n",
    "    \"\"\"This function enlarges the provided Block by a single site, returning an\n",
    "    EnlargedBlock.\n",
    "    \"\"\"\n",
    "    mblock = block.basis_size\n",
    "    o = block.operator_dict\n",
    "    # Create the new operators for the enlarged block.  Our basis becomes a\n",
    "    # Kronecker product of the Block basis and the single-site basis.  NOTE:\n",
    "    # `kron` uses the tensor product convention making blocks of the second\n",
    "    # array scaled by the first.  As such, we adopt this convention for\n",
    "    # Kronecker products throughout the code.\n",
    "    enlarged_operator_dict = {\n",
    "        \"H\": kron(o[\"H\"], identity(model_d)) +h*kron(identity(mblock),Sx1)+J*kron(o[\"conn_Sz\"],Sz1),\n",
    "        \"Magz\":kron(o[\"Magz\"], identity(model_d)) + kron(identity(mblock),Sz1),\n",
    "        \"Magx\":kron(o[\"Magx\"], identity(model_d)) + kron(identity(mblock),Sx1),\n",
    "        \"conn_Sz\": kron(identity(mblock), Sz1),\n",
    "        \"conn_Sx\": kron(identity(mblock), Sx1),\n",
    "    }\n",
    "\n",
    "    return EnlargedsysBlock(length=(block.length + 1),\n",
    "                         basis_size=(block.basis_size * model_d),\n",
    "                         operator_dict=enlarged_operator_dict)\n"
   ]
  },
  {
   "cell_type": "code",
   "execution_count": 6,
   "id": "34d5f2b9",
   "metadata": {},
   "outputs": [],
   "source": [
    "def enlarge_envblock(J,h,block):\n",
    "    \"\"\"This function enlarges the provided Block by a single site, returning an\n",
    "    EnlargedBlock.\n",
    "    \"\"\"\n",
    "    mblock = block.basis_size\n",
    "    o = block.operator_dict\n",
    "    # Create the new operators for the enlarged block.  Our basis becomes a\n",
    "    # Kronecker product of the Block basis and the single-site basis.  NOTE:\n",
    "    # `kron` uses the tensor product convention making blocks of the second\n",
    "    # array scaled by the first.  As such, we adopt this convention for\n",
    "    # Kronecker products throughout the code.\n",
    "    enlarged_operator_dict = {\n",
    "        #\"H\": kron(identity(model_d),o[\"H\"])+h*kron(Sx1,identity(np.size(o[\"conn_Sx\"],0)))+J*kron(Sz1,o[\"conn_Sz\"]),\n",
    "        \"H\": kron(identity(model_d),o[\"H\"])+h*kron(Sx1,identity(mblock))+J*kron(Sz1,o[\"conn_Sz\"]),\n",
    "        \"Magz\":kron(identity(model_d),o[\"Magz\"]) + kron(Sz1,identity(mblock)),\n",
    "        \"Magx\":kron(identity(model_d),o[\"Magx\"]) + kron(Sx1,identity(mblock)),\n",
    "        #\"H\": kron(identity(model_d),o[\"H\"]) - h*kron(identity(model_d),o[\"conn_Sx\"])-J*kron(o[\"conn_Sz\"],Sz1),\n",
    "        \"conn_Sz\": kron(Sz1,identity(mblock)),\n",
    "        \"conn_Sx\": kron(Sx1,identity(mblock)),\n",
    "    }\n",
    "\n",
    "    return EnlargedenvBlock(length=(block.length + 1),\n",
    "                         basis_size=(block.basis_size * model_d),\n",
    "                         operator_dict=enlarged_operator_dict)\n"
   ]
  },
  {
   "cell_type": "code",
   "execution_count": 61,
   "id": "927e0237",
   "metadata": {},
   "outputs": [],
   "source": [
    "def single_dmrg_step(J,h,sys, env, m):\n",
    "    \"\"\"Performs a single DMRG step using `sys` as the system and `env` as the\n",
    "    environment, keeping a maximum of `m` states in the new basis.\n",
    "    \"\"\"\n",
    "    #assert is_valid_block(sys)\n",
    "    #assert is_valid_block(env)\n",
    "\n",
    "    # Enlarge each block by a single site.\n",
    "    sys_enl = enlarge_sysblock(J,h,sys)\n",
    "    env_enl = enlarge_envblock(J,h,env)\n",
    "    \n",
    "#     if sys is env:  # no need to recalculate a second time\n",
    "#         env_enl = sys_enl\n",
    "#     else:\n",
    "#         env_enl = enlarge_block(env)\n",
    "\n",
    "#     assert is_valid_enlarged_block(sys_enl)\n",
    "#     assert is_valid_enlarged_block(env_enl)\n",
    "\n",
    "    # Construct the full superblock Hamiltonian.\n",
    "    m_sys_enl = sys_enl.basis_size\n",
    "    m_env_enl = env_enl.basis_size\n",
    "    sys_enl_op = sys_enl.operator_dict\n",
    "    env_enl_op = env_enl.operator_dict\n",
    "    superblock_hamiltonian = kron(sys_enl_op[\"H\"], identity(m_env_enl)) + kron(identity(m_sys_enl), env_enl_op[\"H\"]) \\\n",
    "                             +J*kron(sys_enl_op[\"conn_Sz\"], env_enl_op[\"conn_Sz\"])\n",
    "    superblock_magz = kron(sys_enl_op[\"Magz\"], identity(m_env_enl)) + kron(identity(m_sys_enl), env_enl_op[\"Magz\"])\n",
    "    superblock_magx = kron(sys_enl_op[\"Magx\"], identity(m_env_enl)) + kron(identity(m_sys_enl), env_enl_op[\"Magx\"])\n",
    "    # Call ARPACK to find the superblock ground state.  (\"SA\" means find the\n",
    "    # \"smallest in amplitude\" eigenvalue.)\n",
    "    energy, psi0 = eigsh(superblock_hamiltonian, k=1, which=\"SA\", tol=0)\n",
    "    #energy = ener[0]\n",
    "    #psi0 = vec[:,0]\n",
    "    #perturb\n",
    "    #lam = 0.01\n",
    "    #fs = psi0 + vec[:,1]*lam*(vec[:,1].T @superblock_magx@vec[:,0])/(ener[0]-ener[1])\n",
    "    expect_magz = psi0.T@superblock_magz@psi0\n",
    "    expect_magx = psi0.T@superblock_magx@psi0\n",
    "    #fd = abs(fs.T@psi0)\n",
    "    #rho = psi0@csr_matrix.getH(psi0)\n",
    "    #ent_s = -np.trace(rho@logm(rho))\n",
    "    \n",
    "    tol = 1e-10\n",
    "    psi0.real[abs(psi0.real) < tol] = 0.0\n",
    "    psi0 = psi0/norm(psi0)\n",
    "    \n",
    "    #expect_magz = psi0.T.conjugate()@superblock_magz@psi0\n",
    "    #expect_magx = psi0.T@superblock_magx@psi0\n",
    "\n",
    "    # Construct the reduced density matrix of the system by tracing out the\n",
    "    # environment\n",
    "    #\n",
    "    # We want to make the (sys, env) indices correspond to (row, column) of a\n",
    "    # matrix, respectively.  Since the environment (column) index updates most\n",
    "    # quickly in our Kronecker product structure, psi0 is thus row-major (\"C\n",
    "    # style\").\n",
    "    if sys_enl.basis_size>=env_enl.basis_size:\n",
    "        psi0_sys = psi0.reshape([sys_enl.basis_size, -1], order=\"C\")\n",
    "        u, s, vh=svd(psi0_sys,full_matrices=False)\n",
    "        s = np.diag(s, k=0)\n",
    "        rho_sys = u@s@s@csr_matrix.getH(u)\n",
    "        rho_env = csr_matrix.getH(vh)@s@s@vh\n",
    "        #ent_sys = -np.trace(rho_sys@logm(rho_sys))\n",
    "        #ent_env = -np.trace(rho_env@logm(rho_env))\n",
    "        #ent_s = ent_env + ent_sys\n",
    "    else:\n",
    "        psi0_sys = psi0.reshape([sys_enl.basis_size, -1], order=\"C\")\n",
    "        u, s, vh=svd(psi0_sys,full_matrices=False)\n",
    "        s = np.diag(s, k=0)\n",
    "        rho_sys = u@s@s.conjugate()@csr_matrix.getH(u)\n",
    "        rho_env = csr_matrix.getH(vh)@s@s@vh\n",
    "        \n",
    "    #ent_s = -np.trace(rho@logm(rho))\n",
    "    # Diagonalize the reduced density matrix and sort the eigenvectors by\n",
    "    # eigenvalue.\n",
    "    evals_sys, evecs_sys = eigh(rho_sys)\n",
    "    evals_env, evecs_env = eigh(rho_env)\n",
    "\n",
    "    #Build the transformation matrix from the `m` overall most significant\n",
    "    #eigenvectors.\n",
    "    my_sysm = min(sys_enl.basis_size,m)\n",
    "    my_envm = min(env_enl.basis_size,m)\n",
    "    transformation_matrix_sys = np.zeros((sys_enl.basis_size, my_sysm), dtype='d', order='F')\n",
    "    transformation_matrix_env = np.zeros((env_enl.basis_size, my_envm), dtype='d', order='F')\n",
    "    for i in range(my_sysm):\n",
    "        transformation_matrix_sys[:,i] = evecs_sys[:,sys_enl.basis_size-i-1]\n",
    "    for i in range(my_envm):\n",
    "        transformation_matrix_env[:,i] = evecs_env[:,env_enl.basis_size-i-1]\n",
    "    \n",
    "    truncation_error = sum([eig1 for eig1 in evals_sys[0:sys_enl.basis_size-m]])\n",
    "    #print(\"truncation error:\", truncation_error)\n",
    "\n",
    "    # Rotate and truncate each operator.\n",
    "    new_sys_operator_dict = {}\n",
    "    for name, op in sys_enl.operator_dict.items():\n",
    "        new_sys_operator_dict[name] = rotate_and_truncate(op, transformation_matrix_sys)\n",
    "        #new_operator_dict[name] = op\n",
    "    newsysblock = SysBlock(length=sys_enl.length,\n",
    "                     basis_size=my_sysm,\n",
    "                     operator_dict=new_sys_operator_dict)    \n",
    "    \n",
    "    new_env_operator_dict = {}\n",
    "    for name, op in env_enl.operator_dict.items():\n",
    "        new_env_operator_dict[name] = rotate_and_truncate(op, transformation_matrix_env)\n",
    "        #new_operator_dict[name] = op\n",
    "    newenvblock = EnvBlock(length=env_enl.length,\n",
    "                     basis_size=my_envm,\n",
    "                     operator_dict=new_env_operator_dict)    \n",
    "    \n",
    "    return newsysblock, newenvblock, energy, expect_magz, expect_magx, psi0"
   ]
  },
  {
   "cell_type": "code",
   "execution_count": 60,
   "id": "2aa5af05",
   "metadata": {},
   "outputs": [],
   "source": [
    "def infinite_system_algorithm(J,h,L, m):\n",
    "    H1 = h*Sx1 + 1e-9*Sz1\n",
    "    Magz1 = Sz1\n",
    "    Magx1 = Sx1\n",
    "    initial_block = SysBlock(length=1, basis_size=model_d, operator_dict={\n",
    "        \"H\": H1,\n",
    "        \"Magz\":Magz1,\n",
    "        \"Magx\":Magx1,\n",
    "        \"conn_Sz\": Sz1,\n",
    "        \"conn_Sx\": Sx1,\n",
    "        })\n",
    "    sysblock = initial_block\n",
    "    envblock = initial_block\n",
    "    # Repeatedly enlarge the system by performing a single DMRG step, using a\n",
    "    # reflection of the current block as the environment.\n",
    "    while 2 * sysblock.length < L:\n",
    "        #print(\"L =\", block.length * 2 + 2)\n",
    "        sysblock, envblock, energy, expect_magz, expect_magx, psi0 = single_dmrg_step(J,h,sysblock, envblock, m=m)\n",
    "    #print(\"E/L =\", energy / (block.length * 2))\n",
    "    #print(\"Magz/L =\", expect_magz / (block.length * 2))\n",
    "    #print(\"Magx/L =\", expect_magx / (block.length * 2))\n",
    "    #print(\"L =\", block.length * 2)\n",
    "    EXP_MAGZ = expect_magz / (sysblock.length * 2)\n",
    "    EXP_MAGX = expect_magx / (sysblock.length * 2)\n",
    "    return energy, EXP_MAGZ,EXP_MAGX, psi0"
   ]
  },
  {
   "cell_type": "code",
   "execution_count": 58,
   "id": "f9fb8272-c4db-435a-af7c-dd4d32ebdb92",
   "metadata": {},
   "outputs": [],
   "source": [
    "energy, EXP_MAGZ,EXP_MAGX,fd = infinite_system_algorithm(J = -1,h=0.8,L=100, m=40)"
   ]
  },
  {
   "cell_type": "code",
   "execution_count": 59,
   "id": "24c1cee6-87be-4962-b4be-4576e7569c48",
   "metadata": {},
   "outputs": [
    {
     "data": {
      "text/plain": [
       "1.0000000000000022"
      ]
     },
     "execution_count": 59,
     "metadata": {},
     "output_type": "execute_result"
    }
   ],
   "source": [
    "fd"
   ]
  },
  {
   "cell_type": "code",
   "execution_count": 33,
   "id": "647f0e3c-cc81-43ad-b820-c509f0815bd1",
   "metadata": {},
   "outputs": [
    {
     "data": {
      "text/plain": [
       "array([0.        , 0.06896552, 0.13793103, 0.20689655, 0.27586207,\n",
       "       0.34482759, 0.4137931 , 0.48275862, 0.55172414, 0.62068966,\n",
       "       0.68965517, 0.75862069, 0.82758621, 0.89655172, 0.96551724,\n",
       "       1.03448276, 1.10344828, 1.17241379, 1.24137931, 1.31034483,\n",
       "       1.37931034, 1.44827586, 1.51724138, 1.5862069 , 1.65517241,\n",
       "       1.72413793, 1.79310345, 1.86206897, 1.93103448, 2.        ])"
      ]
     },
     "execution_count": 33,
     "metadata": {},
     "output_type": "execute_result"
    }
   ],
   "source": [
    "h_arr"
   ]
  },
  {
   "cell_type": "code",
   "execution_count": 15,
   "id": "29b171e2-3fd5-4e12-af6c-92def5ceb196",
   "metadata": {},
   "outputs": [
    {
     "data": {
      "text/plain": [
       "2.529923773756261e-17"
      ]
     },
     "execution_count": 15,
     "metadata": {},
     "output_type": "execute_result"
    }
   ],
   "source": [
    "EXP_MAGX"
   ]
  },
  {
   "cell_type": "code",
   "execution_count": null,
   "id": "d195b4c8-bcc4-4c63-b9c3-8487ad997038",
   "metadata": {},
   "outputs": [],
   "source": [
    "disc_point = 30\n",
    "h_arr = np.linspace(0,2,disc_point)\n",
    "fd_arr = np.linspace(0,1,disc_point)\n",
    "magz_arr = np.linspace(0,2,disc_point)\n",
    "magx_arr = np.linspace(0,2,disc_point)\n",
    "for i in range(disc_point):\n",
    "    energy, EXP_MAGZ,EXP_MAGX,psi0 = infinite_system_algorithm(J = -1,h=h_arr[i],L=200, m=40)\n",
    "    energy, EXP_MAGZ,EXP_MAGX,ppsi0 = infinite_system_algorithm(J = -1,h=h_arr[i]+0.001,L=200, m=40)\n",
    "    fd_arr[i] = np.abs(ppsi0.T@psi0)\n",
    "    #if abs((fd_arr[i] - fd_arr[i])/(h_arr[i]-h_arr[i-1]))>0.5:\n",
    "    #    h_arr[i+1] = h_arr[i]+ 0.001\n",
    "    magz_arr[i] =  EXP_MAGZ\n",
    "    magx_arr[i] =  EXP_MAGX\n",
    "    #ent_s_arr[i] = ent_s\n",
    "    #print(\"Magz =\", EXP_MAGZ[0])\n",
    "    #print(\"Magx =\", EXP_MAGX[0])"
   ]
  },
  {
   "cell_type": "code",
   "execution_count": 64,
   "id": "4846f815",
   "metadata": {},
   "outputs": [
    {
     "data": {
      "text/plain": [
       "<matplotlib.collections.PathCollection at 0x7f4efd4b2020>"
      ]
     },
     "execution_count": 64,
     "metadata": {},
     "output_type": "execute_result"
    },
    {
     "data": {
      "image/png": "[encoded data removed]",
      "text/plain": [
       "<Figure size 432x288 with 1 Axes>"
      ]
     },
     "metadata": {
      "needs_background": "light"
     },
     "output_type": "display_data"
    }
   ],
   "source": [
    "plt.scatter(h_arr,abs(fd_arr))"
   ]
  },
  {
   "cell_type": "code",
   "execution_count": 54,
   "id": "0629e87d-957c-4cb4-8733-fbcc8868ecb6",
   "metadata": {},
   "outputs": [
    {
     "data": {
      "text/plain": [
       "array([1., 1., 1., 1., 1., 1., 1., 1., 1., 1., 1., 1., 1., 1., 1., 1., 1.,\n",
       "       1., 1., 1., 1., 1., 1., 1., 1., 1., 1., 1., 1., 1., 1., 1., 1., 1.,\n",
       "       1., 1., 1., 1., 1., 1., 1., 1., 1., 1., 1., 1., 1., 1., 1., 1., 1.,\n",
       "       1., 1., 1., 1., 1., 1., 1., 1., 1., 1., 1., 1., 1., 1., 1., 1., 1.,\n",
       "       1., 1., 1., 1., 1., 1., 1., 1., 1., 1., 1., 1., 1., 1., 1., 1., 1.,\n",
       "       1., 1., 1., 1., 1., 1., 1., 1., 1., 1., 1., 1., 1., 1., 1.])"
      ]
     },
     "execution_count": 54,
     "metadata": {},
     "output_type": "execute_result"
    }
   ],
   "source": [
    "abs(fd_arr)"
   ]
  },
  {
   "cell_type": "code",
   "execution_count": 55,
   "id": "f95d0d8c-e766-42b9-8c60-06c7ab7eab90",
   "metadata": {},
   "outputs": [
    {
     "data": {
      "text/plain": [
       "array([0.        , 0.02020202, 0.04040404, 0.06060606, 0.08080808,\n",
       "       0.1010101 , 0.12121212, 0.14141414, 0.16161616, 0.18181818,\n",
       "       0.2020202 , 0.22222222, 0.24242424, 0.26262626, 0.28282828,\n",
       "       0.3030303 , 0.32323232, 0.34343434, 0.36363636, 0.38383838,\n",
       "       0.4040404 , 0.42424242, 0.44444444, 0.46464646, 0.48484848,\n",
       "       0.50505051, 0.52525253, 0.54545455, 0.56565657, 0.58585859,\n",
       "       0.60606061, 0.62626263, 0.64646465, 0.66666667, 0.68686869,\n",
       "       0.70707071, 0.72727273, 0.74747475, 0.76767677, 0.78787879,\n",
       "       0.80808081, 0.82828283, 0.84848485, 0.86868687, 0.88888889,\n",
       "       0.90909091, 0.92929293, 0.94949495, 0.96969697, 0.98989899,\n",
       "       1.01010101, 1.03030303, 1.05050505, 1.07070707, 1.09090909,\n",
       "       1.11111111, 1.13131313, 1.15151515, 1.17171717, 1.19191919,\n",
       "       1.21212121, 1.23232323, 1.25252525, 1.27272727, 1.29292929,\n",
       "       1.31313131, 1.33333333, 1.35353535, 1.37373737, 1.39393939,\n",
       "       1.41414141, 1.43434343, 1.45454545, 1.47474747, 1.49494949,\n",
       "       1.51515152, 1.53535354, 1.55555556, 1.57575758, 1.5959596 ,\n",
       "       1.61616162, 1.63636364, 1.65656566, 1.67676768, 1.6969697 ,\n",
       "       1.71717172, 1.73737374, 1.75757576, 1.77777778, 1.7979798 ,\n",
       "       1.81818182, 1.83838384, 1.85858586, 1.87878788, 1.8989899 ,\n",
       "       1.91919192, 1.93939394, 1.95959596, 1.97979798, 2.        ])"
      ]
     },
     "execution_count": 55,
     "metadata": {},
     "output_type": "execute_result"
    }
   ],
   "source": [
    "h_arr"
   ]
  },
  {
   "cell_type": "code",
   "execution_count": 65,
   "id": "68580bbb-7909-4d42-b9c1-5e70482d7500",
   "metadata": {},
   "outputs": [
    {
     "data": {
      "text/plain": [
       "array([1.        , 0.99999982, 0.99999712, 0.99998505, 1.        ,\n",
       "       0.99987482, 1.        , 0.99945036, 0.99897208, 0.99999803,\n",
       "       0.30662851, 0.99454738, 0.30489759, 0.09690911, 0.99366148,\n",
       "       0.99192593, 0.69193901, 0.85096845, 0.87784288, 0.89684518,\n",
       "       0.91098442, 0.8543413 , 0.99990718, 0.93870128, 0.94483932,\n",
       "       0.95001968, 0.95452428, 0.95837912, 0.92542633, 0.93100441])"
      ]
     },
     "execution_count": 65,
     "metadata": {},
     "output_type": "execute_result"
    }
   ],
   "source": [
    "abs(fd_arr)"
   ]
  },
  {
   "cell_type": "code",
   "execution_count": 26,
   "id": "500297f8",
   "metadata": {},
   "outputs": [
    {
     "data": {
      "text/plain": [
       "Text(0.5, 0.98, 'Infinite DMRG Phase Diagram')"
      ]
     },
     "execution_count": 26,
     "metadata": {},
     "output_type": "execute_result"
    },
    {
     "data": {
      "image/png": "[encoded data removed]",
      "text/plain": [
       "<Figure size 1080x360 with 3 Axes>"
      ]
     },
     "metadata": {
      "needs_background": "light"
     },
     "output_type": "display_data"
    }
   ],
   "source": [
    "n = 100\n",
    "fig, (fig_magz, fig_magx, fig_fd) = plt.subplots(1,3,figsize=(15, 5), constrained_layout=True, sharey=True)\n",
    "fig_magz.scatter(h_arr,np.abs(magz_arr),label=r'$N= %d$'%n)\n",
    "#fig_magz.set_title(r'M_(z)')\n",
    "fig_magz.set_xlabel(r'$h$')\n",
    "fig_magz.set_ylabel(r'$M_z(h)$')\n",
    "fig_magz.legend()\n",
    "\n",
    "\n",
    "fig_magx.scatter(h_arr,np.abs(magx_arr),label=r'$N= %d$'%n)\n",
    "fig_magx.set_xlabel(r'$h$')\n",
    "fig_magx.set_ylabel(r'$M_x(h)$')\n",
    "#fig_magx.set_title('M_(x)')\n",
    "fig_magx.legend()\n",
    "\n",
    "# fig_ent_s.scatter(h_arr,np.abs(ent_s_arr),label=r'$N= %d$'%n)\n",
    "# fig_ent_s.scatter(h_arr,np.log(2*np.ones(disc_point)),label=r'$ln2$')\n",
    "# fig_ent_s.set_xlabel(r'$h$')\n",
    "# fig_ent_s.set_ylabel(r'$S_{sys}(h)$')\n",
    "# #fig_magx.set_title('M_(x)')\n",
    "# fig_ent_s.legend()\n",
    "\n",
    "fig_fd.scatter(h_arr,np.abs(fd_arr),label=r'$N= %d$'%n)\n",
    "fig_fd.set_xlabel(r'$h$')\n",
    "fig_fd.set_ylabel(r'$FD(h)$')\n",
    "#fig_magx.set_title('M_(x)')\n",
    "fig_fd.legend()\n",
    "\n",
    "fig.suptitle('Infinite DMRG Phase Diagram', fontsize=16)\n",
    "#plt.savefig('Infinite DMRG Phase Diagram N=%d.png'%n, dpi=300, bbox_inches='tight')"
   ]
  },
  {
   "cell_type": "code",
   "execution_count": 9,
   "id": "e180a771",
   "metadata": {},
   "outputs": [],
   "source": [
    "def graphic(sys_block, env_block, sys_label=\"l\",env_label=\"r\"):\n",
    "    \"\"\"Returns a graphical representation of the DMRG step we are about to\n",
    "    perform, using '=' to represent the system sites, '-' to represent the\n",
    "    environment sites, and '**' to represent the two intermediate sites.\n",
    "    \"\"\"\n",
    "    assert sys_label in (\"l\")\n",
    "    assert env_label in (\"r\")\n",
    "    graphic = (\"=\" * sys_block.length) + \"**\" + (\"-\" * env_block.length)\n",
    "    return graphic"
   ]
  },
  {
   "cell_type": "code",
   "execution_count": 32,
   "id": "b184628c",
   "metadata": {},
   "outputs": [],
   "source": [
    "def finite_system_algorithm(J,h,L, m_warmup, m_sweep_list):\n",
    "    assert L % 2 == 0  # require that L is an even number\n",
    "\n",
    "    # To keep things simple, this dictionary is not actually saved to disk, but\n",
    "    # we use it to represent persistent storage.\n",
    "    sysblock_disk = {}  # \"disk\" storage for Block objects\n",
    "    envblock_disk = {}\n",
    "    # Use the infinite system algorithm to build up to desired size.  Each time\n",
    "    # we construct a block, we save it for future reference as both a left\n",
    "    # (\"l\") and right (\"r\") block, as the infinite system algorithm assumes the\n",
    "    # environment is a mirror image of the system.\n",
    "    H1 = h*Sx1 + 1e-8*Sz1\n",
    "    Magz1 = Sz1\n",
    "    Magx1 = Sx1\n",
    "    initial_block = SysBlock(length=1, basis_size=model_d, operator_dict={\n",
    "        \"H\": H1,\n",
    "        \"Magz\":Magz1,\n",
    "        \"Magx\":Magx1,\n",
    "        \"conn_Sz\": Sz1,\n",
    "        \"conn_Sx\": Sx1,\n",
    "        })\n",
    "    sysblock = initial_block\n",
    "    envblock = initial_block\n",
    "    sysblock_disk[\"l\", sysblock.length] = sysblock\n",
    "    envblock_disk[\"r\", envblock.length] = envblock\n",
    "    while 2 * sysblock.length < L:\n",
    "        # Perform a single DMRG step and save the new Block to \"disk\"\n",
    "        #print(graphic(sysblock, envblock))\n",
    "        sysblock, envblock, energy, expect_magz, expect_magx, psi0 = single_dmrg_step(J,h,sysblock, envblock, m=m_warmup)\n",
    "        #print(\"E/L =\", energy / (sysblock.length * 2))\n",
    "        sysblock_disk[\"l\", sysblock.length] = sysblock\n",
    "        envblock_disk[\"r\", envblock.length] = envblock\n",
    "\n",
    "    # Now that the system is built up to its full size, we perform sweeps using\n",
    "    # the finite system algorithm.  At first the left block will act as the\n",
    "    # system, growing at the expense of the right block (the environment), but\n",
    "    # once we come to the end of the chain these roles will be reversed.\n",
    "    sys_label, env_label = \"l\", \"r\"\n",
    "    sys_block = sysblock; del sysblock  # rename the sysvariable\n",
    "    env_block = envblock; del envblock  # rename the envvariable\n",
    "    for m in m_sweep_list:\n",
    "        while True:\n",
    "            # Load the appropriate environment block from \"disk\"\n",
    "            env_block = envblock_disk[env_label, L - sys_block.length - 2]\n",
    "            if env_block.length == 1:\n",
    "                while True:\n",
    "                # We've come to the end of the chain, so we reverse course.\n",
    "#                 sys_block, env_block = env_block, sys_block\n",
    "#                 sys_label, env_label = env_label, sys_label\n",
    "                    sys_block = sysblock_disk[sys_label, L - env_block.length - 2]\n",
    "                    env_block = envblock_disk[env_label, env_block.length]\n",
    "                    #print(graphic(sys_block, env_block, sys_label),sys_block.length,env_block.length)\n",
    "                    sys_block, env_block, energy, expect_magz, expect_magx, psi0 = single_dmrg_step(J,h,sys_block, env_block, m=m)\n",
    "                    #print(\"E/L =\", energy / L)\n",
    "                    #print(\"MAGZ/L =\", expect_magz[0] / L)\n",
    "                    #print(\"MAGX/L =\", expect_magx[0] / L)\n",
    "                    # Save the block from this step to disk.\n",
    "                    envblock_disk[env_label, env_block.length] = env_block\n",
    "                    # Check whether we just completed a full sweep.\n",
    "                    if env_block.length == L - 2:\n",
    "                        env_block = envblock_disk[env_label, env_block.length-2]\n",
    "                        break  # escape from the \"while True\" loop\n",
    "            ## Perform a single DMRG step.\n",
    "            #print(graphic(sys_block, env_block),sys_block.length,env_block.length)\n",
    "            sys_block, env_block, energy, expect_magz, expect_magx, psi0 = single_dmrg_step(J,h,sys_block, env_block, m=m)\n",
    "            #print(\"E/L =\", energy / L)\n",
    "            #print(\"MAGZ/L =\", expect_magz[0] / L)\n",
    "            #print(\"MAGX/L =\", expect_magx[0] / L)\n",
    "            # Save the block from this step to disk.\n",
    "            sysblock_disk[sys_label, sys_block.length] = sys_block\n",
    "            # Check whether we just completed a full sweep.\n",
    "            if 2 * sys_block.length == L:\n",
    "                break  # escape from the \"while True\" loop\n",
    "    EXP_MAGZ = expect_magz[0] / L\n",
    "    EXP_MAGX = expect_magx[0] / L\n",
    "    return  energy, EXP_MAGZ,EXP_MAGX, psi0\n",
    "#if __name__ == \"__main__\":\n",
    "    #np.set_printoptions(precision=10, suppress=True, threshold=10000, linewidth=300)\n",
    "\n",
    "    #infinite_system_algorithm(L=100, m=20)\n",
    "    #finite_system_algorithm(J=-1,h=-1,L=64, m_warmup=10, m_sweep_list=[10, 20, 30, 40, 40])"
   ]
  },
  {
   "cell_type": "code",
   "execution_count": 34,
   "id": "ded1a4d3-5160-440f-88ae-0e73b6d4f0ae",
   "metadata": {},
   "outputs": [
    {
     "name": "stdout",
     "output_type": "stream",
     "text": [
      "Magz = -0.9999998674999244\n",
      "Magx = -0.0005100000929252482\n",
      "Magz = -0.9993499095101767\n",
      "Magx = -0.03570471760974095\n",
      "Magz = -0.9974192749652186\n",
      "Magx = -0.07103043242490478\n",
      "Magz = -0.9941548273499357\n",
      "Magx = -0.10662117411509486\n",
      "Magz = -0.9894623820197029\n",
      "Magx = -0.14262123920807843\n",
      "Magz = -0.9831964115276112\n",
      "Magx = -0.17919178201944408\n",
      "Magz = -0.9751422412847484\n",
      "Magx = -0.2165196060043392\n",
      "Magz = -0.9649855191733159\n",
      "Magx = -0.25482976878408126\n",
      "Magz = -0.9522581438818698\n",
      "Magx = -0.29440492130320356\n",
      "Magz = -0.9362365128355725\n",
      "Magx = -0.3356171356344009\n",
      "Magz = -0.9157320970546623\n",
      "Magx = -0.37898474173020086\n",
      "Magz = -0.8886010382316784\n",
      "Magx = -0.42528506962345103\n",
      "Magz = -0.8352614635595149\n",
      "Magx = -0.475814207084402\n",
      "Magz = -0.0017666431716563302\n",
      "Magx = -0.5331549838491848\n",
      "Magz = -1.4956697716161926e-06\n",
      "Magx = -0.606423696530126\n",
      "Magz = -1.4645259958090406e-08\n",
      "Magx = -0.693080281562775\n",
      "Magz = -3.5780908522187183e-09\n",
      "Magx = -0.7462934130051928\n",
      "Magz = -1.9034417521324178e-09\n",
      "Magx = -0.7838415686906646\n",
      "Magz = -1.274724616556755e-09\n",
      "Magx = -0.8124873305743096\n",
      "Magz = -9.030540230187123e-10\n",
      "Magx = -0.8352274746389677\n",
      "Magz = -6.923086775037501e-10\n",
      "Magx = -0.8537502010452337\n",
      "Magz = -5.144307229157375e-10\n",
      "Magx = -0.8691229288458738\n",
      "Magz = -4.832560429948729e-10\n",
      "Magx = -0.8820687922186223\n",
      "Magz = -3.984833613947247e-10\n",
      "Magx = -0.893101040187046\n",
      "Magz = -3.797758671431062e-10\n",
      "Magx = -0.9025965437820812\n",
      "Magz = -3.031449587360957e-10\n",
      "Magx = -0.9108393718624039\n",
      "Magz = -3.0001404674809274e-10\n",
      "Magx = -0.9180481821510894\n",
      "Magz = -2.800289099647718e-10\n",
      "Magx = -0.9243942247221848\n",
      "Magz = -2.500899982157273e-10\n",
      "Magx = -0.9300135994164949\n",
      "Magz = -2.197040438033787e-10\n",
      "Magx = -0.9350158433702377\n"
     ]
    }
   ],
   "source": [
    "disc_point = 30\n",
    "h_arr = np.linspace(0,2,disc_point)\n",
    "magz_arr = np.linspace(0,2,disc_point)\n",
    "magx_arr = np.linspace(0,2,disc_point)\n",
    "fd_arr = np.linspace(0,2,disc_point)\n",
    "for i in range(disc_point):\n",
    "    energy, EXP_MAGZ,EXP_MAGX, psi0 = finite_system_algorithm(J=-1,h=h_arr[i],L=100, m_warmup=50, m_sweep_list=[50, 50])\n",
    "    energy, EXP_MAGZ,EXP_MAGX, ppsi0 = finite_system_algorithm(J=-1,h=h_arr[i]+0.001,L=100, m_warmup=50, m_sweep_list=[50, 50])\n",
    "    magz_arr[i] =  EXP_MAGZ[0]\n",
    "    magx_arr[i] =  EXP_MAGX[0]\n",
    "    fd_arr[i] = csr_matrix.getH(psi0)@ppsi0\n",
    "    print(\"Magz =\", EXP_MAGZ[0])\n",
    "    print(\"Magx =\", EXP_MAGX[0])"
   ]
  },
  {
   "cell_type": "code",
   "execution_count": 36,
   "id": "4f90fb9d-bbea-4a34-aa5e-5ba6d0590c0e",
   "metadata": {},
   "outputs": [
    {
     "data": {
      "image/png": "[encoded data removed]",
      "text/plain": [
       "<Figure size 432x288 with 2 Axes>"
      ]
     },
     "metadata": {
      "needs_background": "light"
     },
     "output_type": "display_data"
    }
   ],
   "source": [
    "n = 100\n",
    "fig, (fig_magz, fig_magx) = plt.subplots(1, 2, constrained_layout=True, sharey=True)\n",
    "fig_magz.scatter(h_arr,np.abs(magz_arr),label=r'$N= %d$'%n)\n",
    "#fig_magz.set_title(r'M_(z)')\n",
    "fig_magz.set_xlabel(r'$h$')\n",
    "fig_magz.set_ylabel(r'$M_z(h)$')\n",
    "fig_magz.legend()\n",
    "\n",
    "\n",
    "fig_magx.scatter(h_arr,np.abs(magx_arr),label=r'$N= %d$'%n)\n",
    "fig_magx.set_xlabel(r'$h$')\n",
    "fig_magx.set_ylabel(r'$M_x(h)$')\n",
    "#fig_magx.set_title('M_(x)')\n",
    "fig_magx.legend()\n",
    "\n",
    "\n",
    "fig.suptitle('Finite DMRG Phase Diagram', fontsize=16)\n",
    "plt.savefig('Finite DMRG Phase Diagram N=%d.png'%n, dpi=300, bbox_inches='tight')"
   ]
  },
  {
   "cell_type": "code",
   "execution_count": 38,
   "id": "a39b367d-2da3-4c1b-b0b1-c2b55e59f6fe",
   "metadata": {},
   "outputs": [
    {
     "data": {
      "text/plain": [
       "<matplotlib.collections.PathCollection at 0x7f6aacd20e80>"
      ]
     },
     "execution_count": 38,
     "metadata": {},
     "output_type": "execute_result"
    },
    {
     "data": {
      "image/png": "[encoded data removed]",
      "text/plain": [
       "<Figure size 432x288 with 1 Axes>"
      ]
     },
     "metadata": {
      "needs_background": "light"
     },
     "output_type": "display_data"
    }
   ],
   "source": [
    "plt.scatter(h_arr,abs(fd_arr))"
   ]
  },
  {
   "cell_type": "code",
   "execution_count": null,
   "id": "f3f05e0a-ab21-464e-8a38-1fa4b6aed6a1",
   "metadata": {},
   "outputs": [],
   "source": []
  },
  {
   "cell_type": "code",
   "execution_count": null,
   "id": "3b477e89-5289-4a3d-92ca-ecd682549ae1",
   "metadata": {},
   "outputs": [],
   "source": []
  }
 ],
 "metadata": {
  "kernelspec": {
   "display_name": "Python 3 (ipykernel)",
   "language": "python",
   "name": "python3"
  },
  "language_info": {
   "codemirror_mode": {
    "name": "ipython",
    "version": 3
   },
   "file_extension": ".py",
   "mimetype": "text/x-python",
   "name": "python",
   "nbconvert_exporter": "python",
   "pygments_lexer": "ipython3",
   "version": "3.10.7"
  }
 },
 "nbformat": 4,
 "nbformat_minor": 5
}
