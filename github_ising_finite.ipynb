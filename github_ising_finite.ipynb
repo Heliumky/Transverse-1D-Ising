{
 "cells": [
  {
   "cell_type": "code",
   "execution_count": 1,
   "id": "b11b8a9b",
   "metadata": {},
   "outputs": [],
   "source": [
    "#!/usr/bin/env python\n",
    "#\n",
    "# Simple DMRG tutorial.  This code contains a basic implementation of the\n",
    "# infinite system algorithm\n",
    "#\n",
    "# Copyright 2013 James R. Garrison and Ryan V. Mishmash.\n",
    "# Open source under the MIT license.  Source code at\n",
    "# <https://github.com/simple-dmrg/simple-dmrg/>\n",
    "\n",
    "# This code will run under any version of Python >= 2.6.  The following line\n",
    "# provides consistency between python2 and python3.\n",
    "from __future__ import print_function, division  # requires Python >= 2.6\n",
    "\n",
    "# numpy and scipy imports\n",
    "import numpy as np\n",
    "from scipy.sparse import kron, identity, csr_matrix\n",
    "from scipy.sparse.linalg import eigsh  # Lanczos routine from ARPACK\n",
    "from scipy.linalg import eigh, norm, svd\n",
    "# We will use python's \"namedtuple\" to represent the Block and EnlargedBlock\n",
    "# objects\n",
    "from collections import namedtuple\n",
    "import matplotlib.pyplot as plt"
   ]
  },
  {
   "cell_type": "code",
   "execution_count": 2,
   "id": "a2809620",
   "metadata": {},
   "outputs": [],
   "source": [
    "#system block\n",
    "SysBlock = namedtuple(\"SysBlock\", [\"length\", \"basis_size\", \"operator_dict\"])\n",
    "EnlargedsysBlock = namedtuple(\"EnlargedsysBlock\", [\"length\", \"basis_size\", \"operator_dict\"])\n",
    "SysBlock_Ptb = namedtuple(\"SysBlock_Ptb\", [\"length\", \"basis_size\", \"operator_dict\"])\n",
    "EnlargedsysBlock_Ptb = namedtuple(\"EnlargedsysBlock_Ptb\", [\"length\", \"basis_size\", \"operator_dict\"])\n",
    "\n",
    "\n",
    "#env block\n",
    "EnvBlock = namedtuple(\"EnvBlock\", [\"length\", \"basis_size\", \"operator_dict\"])\n",
    "EnlargedenvBlock = namedtuple(\"EnlargedenvBlock\", [\"length\", \"basis_size\", \"operator_dict\"])\n",
    "EnvBlock_Ptb = namedtuple(\"EnvBlock_Ptb\", [\"length\", \"basis_size\", \"operator_dict\"])\n",
    "EnlargedenvBlock_Ptb = namedtuple(\"EnlargedenvBlock_Ptb\", [\"length\", \"basis_size\", \"operator_dict\"])"
   ]
  },
  {
   "cell_type": "code",
   "execution_count": 3,
   "id": "0fc34a30",
   "metadata": {},
   "outputs": [],
   "source": [
    "# Model-specific code for the Heisenberg XXZ chain\n",
    "model_d = 2  # single-site basis size\n",
    "\n",
    "Sz1 = 2*np.array([[0.5, 0], [0, -0.5]], dtype='d')  # single-site S^z\n",
    "Sx1 = 2*np.array([[0, 0.5], [0.5, 0]], dtype='d')  # single-site S^x"
   ]
  },
  {
   "cell_type": "code",
   "execution_count": 4,
   "id": "c1b29443",
   "metadata": {},
   "outputs": [],
   "source": [
    "def rotate_and_truncate(operator, transformation_matrix1,transformation_matrix2):\n",
    "    \"\"\"Transforms the operator to the new (possibly truncated) basis given by\n",
    "    `transformation_matrix`.\n",
    "    \"\"\"\n",
    "    return csr_matrix(csr_matrix.getH(transformation_matrix1)@operator@transformation_matrix2)"
   ]
  },
  {
   "cell_type": "code",
   "execution_count": 5,
   "id": "3d2cd8af",
   "metadata": {},
   "outputs": [],
   "source": [
    "def enlarge_sysblock(J,h,d,block):\n",
    "    \"\"\"This function enlarges the provided Block by a single site, returning an\n",
    "    EnlargedBlock.\n",
    "    \"\"\"\n",
    "    mblock = block.basis_size\n",
    "    o = block.operator_dict\n",
    "    # Create the new operators for the enlarged block.  Our basis becomes a\n",
    "    # Kronecker product of the Block basis and the single-site basis.  NOTE:\n",
    "    # `kron` uses the tensor product convention making blocks of the second\n",
    "    # array scaled by the first.  As such, we adopt this convention for\n",
    "    # Kronecker products throughout the code.\n",
    "    enlarged_operator_dict = {\n",
    "        \"H\": kron(o[\"H\"], identity(model_d)) +h*kron(identity(mblock),Sx1)+d*kron(identity(mblock),Sz1)+J*kron(o[\"conn_Sz\"],Sz1),\n",
    "        \"Magz\":kron(o[\"Magz\"], identity(model_d)) + kron(identity(mblock),Sz1),\n",
    "        \"Magx\":kron(o[\"Magx\"], identity(model_d)) + kron(identity(mblock),Sx1),\n",
    "        \"conn_Sz\": kron(identity(mblock), Sz1),\n",
    "        \"conn_Sx\": kron(identity(mblock), Sx1),\n",
    "        \"ident_sys\": kron(o[\"ident_sys\"], identity(model_d)),\n",
    "    }\n",
    "\n",
    "    return EnlargedsysBlock(length=(block.length + 1),\n",
    "                         basis_size=(block.basis_size * model_d),\n",
    "                         operator_dict=enlarged_operator_dict)\n"
   ]
  },
  {
   "cell_type": "code",
   "execution_count": 6,
   "id": "bf128ae2-870d-438a-b325-fea446cb2c05",
   "metadata": {},
   "outputs": [],
   "source": [
    "def enlarge_sysblock_ptb(J,h,d,block):\n",
    "    \"\"\"This function enlarges the provided Block by a single site, returning an\n",
    "    EnlargedBlock.\n",
    "    \"\"\"\n",
    "    mblock = block.basis_size\n",
    "    o = block.operator_dict\n",
    "    # Create the new operators for the enlarged block.  Our basis becomes a\n",
    "    # Kronecker product of the Block basis and the single-site basis.  NOTE:\n",
    "    # `kron` uses the tensor product convention making blocks of the second\n",
    "    # array scaled by the first.  As such, we adopt this convention for\n",
    "    # Kronecker products throughout the code.\n",
    "    enlarged_operator_dict = {\n",
    "        \"H\": kron(o[\"H\"], identity(model_d)) +h*kron(identity(mblock),Sx1)+d*kron(identity(mblock),Sz1)+J*kron(o[\"conn_Sz\"],Sz1),\n",
    "        \"Magz\":kron(o[\"Magz\"], identity(model_d)) + kron(identity(mblock),Sz1),\n",
    "        \"Magx\":kron(o[\"Magx\"], identity(model_d)) + kron(identity(mblock),Sx1),\n",
    "        \"conn_Sz\": kron(identity(mblock), Sz1),\n",
    "        \"conn_Sx\": kron(identity(mblock), Sx1),\n",
    "        \"ident_sys\": kron(o[\"ident_sys\"], identity(model_d)),\n",
    "    }\n",
    "\n",
    "    return EnlargedsysBlock_Ptb(length=(block.length + 1),\n",
    "                         basis_size=(block.basis_size * model_d),\n",
    "                         operator_dict=enlarged_operator_dict)\n"
   ]
  },
  {
   "cell_type": "code",
   "execution_count": 7,
   "id": "34d5f2b9",
   "metadata": {},
   "outputs": [],
   "source": [
    "def enlarge_envblock(J,h,d,block):\n",
    "    \"\"\"This function enlarges the provided Block by a single site, returning an\n",
    "    EnlargedBlock.\n",
    "    \"\"\"\n",
    "    mblock = block.basis_size\n",
    "    o = block.operator_dict\n",
    "    # Create the new operators for the enlarged block.  Our basis becomes a\n",
    "    # Kronecker product of the Block basis and the single-site basis.  NOTE:\n",
    "    # `kron` uses the tensor product convention making blocks of the second\n",
    "    # array scaled by the first.  As such, we adopt this convention for\n",
    "    # Kronecker products throughout the code.\n",
    "    enlarged_operator_dict = {\n",
    "        #\"H\": kron(identity(model_d),o[\"H\"])+h*kron(Sx1,identity(np.size(o[\"conn_Sx\"],0)))+J*kron(Sz1,o[\"conn_Sz\"]),\n",
    "        \"H\": kron(identity(model_d),o[\"H\"])+h*kron(Sx1,identity(mblock))+d*kron(Sz1,identity(mblock))+J*kron(Sz1,o[\"conn_Sz\"]),\n",
    "        \"Magz\":kron(identity(model_d),o[\"Magz\"]) + kron(Sz1,identity(mblock)),\n",
    "        \"Magx\":kron(identity(model_d),o[\"Magx\"]) + kron(Sx1,identity(mblock)),\n",
    "        #\"H\": kron(identity(model_d),o[\"H\"]) - h*kron(identity(model_d),o[\"conn_Sx\"])-J*kron(o[\"conn_Sz\"],Sz1),\n",
    "        \"conn_Sz\": kron(Sz1,identity(mblock)),\n",
    "        \"conn_Sx\": kron(Sx1,identity(mblock)),\n",
    "        \"ident_env\": kron(identity(model_d),o[\"ident_env\"]),\n",
    "    }\n",
    "\n",
    "    return EnlargedenvBlock(length=(block.length + 1),\n",
    "                         basis_size=(block.basis_size * model_d),\n",
    "                         operator_dict=enlarged_operator_dict)\n"
   ]
  },
  {
   "cell_type": "code",
   "execution_count": 8,
   "id": "66b49824-e0be-42cc-a8cf-2749da1b98a2",
   "metadata": {},
   "outputs": [],
   "source": [
    "def enlarge_envblock_ptb(J,h,d,block):\n",
    "    \"\"\"This function enlarges the provided Block by a single site, returning an\n",
    "    EnlargedBlock.\n",
    "    \"\"\"\n",
    "    mblock = block.basis_size\n",
    "    o = block.operator_dict\n",
    "    # Create the new operators for the enlarged block.  Our basis becomes a\n",
    "    # Kronecker product of the Block basis and the single-site basis.  NOTE:\n",
    "    # `kron` uses the tensor product convention making blocks of the second\n",
    "    # array scaled by the first.  As such, we adopt this convention for\n",
    "    # Kronecker products throughout the code.\n",
    "    enlarged_operator_dict = {\n",
    "        #\"H\": kron(identity(model_d),o[\"H\"])+h*kron(Sx1,identity(np.size(o[\"conn_Sx\"],0)))+J*kron(Sz1,o[\"conn_Sz\"]),\n",
    "        \"H\": kron(identity(model_d),o[\"H\"])+h*kron(Sx1,identity(mblock))+d*kron(Sz1,identity(mblock))+J*kron(Sz1,o[\"conn_Sz\"]),\n",
    "        \"Magz\":kron(identity(model_d),o[\"Magz\"]) + kron(Sz1,identity(mblock)),\n",
    "        \"Magx\":kron(identity(model_d),o[\"Magx\"]) + kron(Sx1,identity(mblock)),\n",
    "        #\"H\": kron(identity(model_d),o[\"H\"]) - h*kron(identity(model_d),o[\"conn_Sx\"])-J*kron(o[\"conn_Sz\"],Sz1),\n",
    "        \"conn_Sz\": kron(Sz1,identity(mblock)),\n",
    "        \"conn_Sx\": kron(Sx1,identity(mblock)),\n",
    "        \"ident_env\": kron(identity(model_d),o[\"ident_env\"]),\n",
    "    }\n",
    "\n",
    "    return EnlargedenvBlock_Ptb(length=(block.length + 1),\n",
    "                         basis_size=(block.basis_size * model_d),\n",
    "                         operator_dict=enlarged_operator_dict)\n"
   ]
  },
  {
   "cell_type": "code",
   "execution_count": 27,
   "id": "927e0237",
   "metadata": {},
   "outputs": [],
   "source": [
    "def single_dmrg_step(J,h,d,p,sys, env, sys_ptb, env_ptb, m):\n",
    "#def single_dmrg_step(J,h,d,p,sys, env, m):\n",
    "#def single_dmrg_step(J,h,d,p,sys_ptb, env_ptb, m):\n",
    "    \"\"\"Performs a single DMRG step using `sys` as the system and `env` as the\n",
    "    environment, keeping a maximum of `m` states in the new basis.\n",
    "    \"\"\"\n",
    "    #assert is_valid_block(sys)\n",
    "    #assert is_valid_block(env)\n",
    "\n",
    "    # Enlarge each block by a single site.\n",
    "\n",
    "    #env_enl = enlarge_envblock(J,h,d,env)\n",
    "    #sys_enl = enlarge_sysblock(J,h,d,sys)\n",
    "    tol=1e-12\n",
    "#     if sys is env:  # no need to recalculate a second time\n",
    "#         env_enl = sys_enl\n",
    "#     else:\n",
    "#         env_enl = enlarge_block(env)\n",
    "\n",
    "#     assert is_valid_enlarged_block(sys_enl)\n",
    "#     assert is_valid_enlarged_block(env_enl)\n",
    "        \n",
    "##----------------------------------------perturb---------------------------------------\n",
    "    sys_enl_ptb = enlarge_sysblock_ptb(J,h+p,d,sys_ptb)\n",
    "    env_enl_ptb = enlarge_envblock_ptb(J,h+p,d,env_ptb)\n",
    "    m_sys_enl_ptb = sys_enl_ptb.basis_size\n",
    "    m_env_enl_ptb = env_enl_ptb.basis_size\n",
    "    sys_enl_op_ptb = sys_enl_ptb.operator_dict\n",
    "    env_enl_op_ptb = env_enl_ptb.operator_dict\n",
    "    ini_v = -1*np.ones(sys_enl_ptb.basis_size*env_enl_ptb.basis_size)\n",
    "    superblock_hamiltonian_ptb = kron(sys_enl_op_ptb[\"H\"], identity(m_env_enl_ptb)) + kron(identity(m_sys_enl_ptb), env_enl_op_ptb[\"H\"]) \\\n",
    "                             +J*kron(sys_enl_op_ptb[\"conn_Sz\"], env_enl_op_ptb[\"conn_Sz\"])\n",
    "    # Call ARPACK to find the superblock ground state.  (\"SA\" means find the\n",
    "    # \"smallest in amplitude\" eigenvalue.)\n",
    "    #superblock_magz = kron(sys_enl_op_ptb[\"Magz\"], identity(m_env_enl_ptb)) + kron(identity(m_sys_enl_ptb), env_enl_op_ptb[\"Magz\"])\n",
    "    #superblock_magx = kron(sys_enl_op_ptb[\"Magx\"], identity(m_env_enl_ptb)) + kron(identity(m_sys_enl_ptb), env_enl_op_ptb[\"Magx\"])\n",
    "    energy, psi0_ptb = eigsh(superblock_hamiltonian_ptb, k=1, which=\"SA\", tol=1e-12, v0=ini_v)\n",
    "    #expect_magz = csr_matrix.getH(psi0_ptb)@superblock_magz@psi0_ptb\n",
    "    #expect_magx = csr_matrix.getH(psi0_ptb)@superblock_magx@psi0_ptb\n",
    "    #tol=1e-9\n",
    "    # Construct the reduced density matrix of the system by tracing out the\n",
    "    # environment\n",
    "    #\n",
    "    # We want to make the (sys, env) indices correspond to (row, column) of a\n",
    "    # matrix, respectively.  Since the environment (column) index updates most\n",
    "    # quickly in our Kronecker product structure, psi0 is thus row-major (\"C\n",
    "    # style\").\n",
    "    re_psi0_ptb = psi0_ptb.reshape([sys_enl_ptb.basis_size, -1], order=\"C\")\n",
    "    u_ptb, s_ptb, vh_ptb =svd(re_psi0_ptb,full_matrices=False)\n",
    "    u_ptb.real[abs(u_ptb.real) < tol] = 0.0\n",
    "    s_ptb.real[abs(s_ptb.real) < tol] = 0.0\n",
    "    vh_ptb.real[abs(vh_ptb.real) < tol] = 0.0\n",
    "    s_mtx_ptb = np.diag(s_ptb, k=0)\n",
    "    rho_sys_ptb = u_ptb@s_mtx_ptb@csr_matrix.getH(s_mtx_ptb)@csr_matrix.getH(u_ptb)\n",
    "    rho_env_ptb = csr_matrix.getH(vh_ptb)@s_mtx_ptb@csr_matrix.getH(s_mtx_ptb)@vh_ptb\n",
    "    # Diagonalize the reduced density matrix and sort the eigenvectors by\n",
    "    # eigenvalue.\n",
    "    evals_sys_ptb, evecs_sys_ptb = eigh(rho_sys_ptb)\n",
    "    evals_env_ptb, evecs_env_ptb = eigh(rho_env_ptb)\n",
    "    \n",
    "    while True:\n",
    "        truncation_syserror = sum([eig1 for eig1 in evals_sys_ptb[0:sys_enl_ptb.basis_size-m]])\n",
    "        truncation_enverror = sum([eig1 for eig1 in evals_env_ptb[0:env_enl_ptb.basis_size-m]])\n",
    "        if truncation_syserror > 1e-10:\n",
    "            m=m+1\n",
    "        else:\n",
    "            break\n",
    "        #print(\"truncation error:\", truncation_syserror+truncation_enverror,\"m:\",m, \"Length:\",env_enl.length+sys_enl.length)\n",
    "\n",
    "    #Build the transformation matrix from the `m` overall most significant\n",
    "    #eigenvectors.\n",
    "    my_sysm_ptb = min(sys_enl_ptb.basis_size,m)\n",
    "    my_envm_ptb = min(env_enl_ptb.basis_size,m)\n",
    "    transformation_matrix_sys_ptb = np.zeros((sys_enl_ptb.basis_size, my_sysm_ptb),order='F')\n",
    "    transformation_matrix_env_ptb = np.zeros((env_enl_ptb.basis_size, my_envm_ptb),order='F')\n",
    "    for i in range(my_sysm_ptb):\n",
    "        transformation_matrix_sys_ptb[:,i] = evecs_sys_ptb[:,sys_enl_ptb.basis_size-i-1]\n",
    "    for i in range(my_envm_ptb):\n",
    "        transformation_matrix_env_ptb[:,i] = evecs_env_ptb[:,env_enl_ptb.basis_size-i-1]\n",
    "#----------------------------------------perturb---------------------------------------\n",
    "\n",
    "#----------------------------------------Rotation perturb-----------------------------   \n",
    "    # Rotate and truncate each operator.\n",
    "    new_sys_operator_ptb_dict = {}\n",
    "    for name, op in sys_enl_ptb.operator_dict.items():\n",
    "        new_sys_operator_ptb_dict[name] = rotate_and_truncate(op, transformation_matrix_sys_ptb,transformation_matrix_sys_ptb)\n",
    "        #new_operator_dict[name] = op\n",
    "    newsysblock_ptb = SysBlock_Ptb(length=sys_enl_ptb.length,\n",
    "                     basis_size=my_sysm_ptb,\n",
    "                     operator_dict=new_sys_operator_ptb_dict)    \n",
    "    \n",
    "    new_env_operator_ptb_dict = {}\n",
    "    for name, op in env_enl_ptb.operator_dict.items():\n",
    "        new_env_operator_ptb_dict[name] = rotate_and_truncate(op, transformation_matrix_env_ptb,transformation_matrix_env_ptb)\n",
    "    newenvblock_ptb = EnvBlock_Ptb(length=env_enl_ptb.length,\n",
    "                     basis_size=my_envm_ptb,\n",
    "                     operator_dict=new_env_operator_ptb_dict)\n",
    "#----------------------------------------Rotation perterb----------------------------- \n",
    "\n",
    "#----------------------------------------unperturb---------------------------------------\n",
    "    # Construct the full superblock Hamiltonian.\n",
    "    sys_enl = enlarge_sysblock_ptb(J,h,d,sys)\n",
    "    env_enl = enlarge_envblock_ptb(J,h,d,env)\n",
    "    m_sys_enl = sys_enl.basis_size\n",
    "    m_env_enl = env_enl.basis_size\n",
    "    sys_enl_op = sys_enl.operator_dict\n",
    "    env_enl_op = env_enl.operator_dict\n",
    "    ini_v = -1*np.ones(sys_enl.basis_size*env_enl.basis_size)\n",
    "    superblock_hamiltonian = kron(sys_enl_op[\"H\"], identity(m_env_enl)) + kron(identity(m_sys_enl), env_enl_op[\"H\"]) \\\n",
    "                             +J*kron(sys_enl_op[\"conn_Sz\"], env_enl_op[\"conn_Sz\"])\n",
    "    superblock_magz = kron(sys_enl_op[\"Magz\"], identity(m_env_enl)) + kron(identity(m_sys_enl), env_enl_op[\"Magz\"])\n",
    "    superblock_magx = kron(sys_enl_op[\"Magx\"], identity(m_env_enl)) + kron(identity(m_sys_enl), env_enl_op[\"Magx\"])\n",
    "    # Call ARPACK to find the superblock ground state.  (\"SA\" means find the\n",
    "    # \"smallest in amplitude\" eigenvalue.)\n",
    "    energy, psi0 = eigsh(superblock_hamiltonian, k=1, which=\"SA\", tol=1e-12, v0=ini_v)\n",
    "    expect_magz = csr_matrix.getH(psi0)@superblock_magz@psi0\n",
    "    expect_magx = csr_matrix.getH(psi0)@superblock_magx@psi0\n",
    "    # Construct the reduced density matrix of the system by tracing out the\n",
    "    # environment\n",
    "    #\n",
    "    # We want to make the (sys, env) indices correspond to (row, column) of a\n",
    "    # matrix, respectively.  Since the environment (column) index updates most\n",
    "    # quickly in our Kronecker product structure, psi0 is thus row-major (\"C\n",
    "    # style\").\n",
    "    re_psi0 = psi0.reshape([sys_enl.basis_size, -1], order=\"C\")\n",
    "    u, s, vh=svd(re_psi0,full_matrices=False)\n",
    "    u.real[abs(u.real) < tol] = 0.0\n",
    "    s.real[abs(s.real) < tol] = 0.0\n",
    "    vh.real[abs(vh.real) < tol] = 0.0\n",
    "    s_mtx = np.diag(s, k=0)\n",
    "    rho_sys = u@s_mtx@csr_matrix.getH(s_mtx)@csr_matrix.getH(u)\n",
    "    rho_env = csr_matrix.getH(vh)@s_mtx@csr_matrix.getH(s_mtx)@vh\n",
    "    #print(rho_sys)\n",
    "    ent_s = -sum([si*np.conjugate(si)*np.log(si*np.conjugate(si)) for si in np.trim_zeros(s[0:len(s)])])\n",
    "    \n",
    "    # Diagonalize the reduced density matrix and sort the eigenvectors by\n",
    "    # eigenvalue.\n",
    "    evals_sys, evecs_sys = eigh(rho_sys)\n",
    "    evals_env, evecs_env = eigh(rho_env)\n",
    "    \n",
    "    #Build the transformation matrix from the `m` overall most significant\n",
    "    #eigenvectors.\n",
    "    my_sysm = min(sys_enl.basis_size,m)\n",
    "    my_envm = min(env_enl.basis_size,m)\n",
    "    transformation_matrix_sys = np.zeros((sys_enl.basis_size, my_sysm),order='F')\n",
    "    transformation_matrix_env = np.zeros((env_enl.basis_size, my_envm),order='F')\n",
    "    for i in range(my_sysm):\n",
    "        transformation_matrix_sys[:,i] = evecs_sys[:,sys_enl.basis_size-i-1]\n",
    "    for i in range(my_envm):\n",
    "        transformation_matrix_env[:,i] = evecs_env[:,env_enl.basis_size-i-1]\n",
    "#----------------------------------------unperturb---------------------------------------   \n",
    "\n",
    "#----------------------------------------Rotation unperturb-----------------------------   \n",
    "    # Rotate and truncate each operator.\n",
    "    new_sys_operator_dict = {}\n",
    "    for name, op in sys_enl.operator_dict.items():\n",
    "        new_sys_operator_dict[name] = rotate_and_truncate(op, transformation_matrix_sys,transformation_matrix_sys)\n",
    "    new_sys_operator_dict[name] = rotate_and_truncate(op, transformation_matrix_sys_ptb,transformation_matrix_sys)\n",
    "        #new_operator_dict[name] = op\n",
    "    newsysblock = SysBlock(length=sys_enl.length,\n",
    "                     basis_size=my_sysm,\n",
    "                     operator_dict=new_sys_operator_dict)    \n",
    "    \n",
    "    new_env_operator_dict = {}\n",
    "    for name, op in env_enl.operator_dict.items():\n",
    "        new_env_operator_dict[name] = rotate_and_truncate(op, transformation_matrix_env,transformation_matrix_env)\n",
    "    new_env_operator_dict[name] = rotate_and_truncate(op, transformation_matrix_env_ptb,transformation_matrix_env)\n",
    "        #new_operator_dict[name] = op\n",
    "    newenvblock = EnvBlock(length=env_enl.length,\n",
    "                     basis_size=my_envm,\n",
    "                     operator_dict=new_env_operator_dict)\n",
    "    #print(my_sysm,env_enl.length + sys_enl.length)\n",
    "#----------------------------------------Rotation unperterb-----------------------------   \n",
    "\n",
    "#----------------------------------------fd--------------------------------------- \n",
    "    sup_ident = kron(sys_enl_op[\"ident_sys\"],env_enl_op['ident_env'])    \n",
    "    fd = np.abs(csr_matrix.getH(psi0_ptb)@sup_ident@psi0)\n",
    "#----------------------------------------fd---------------------------------------   \n",
    "    return  newsysblock, newenvblock, newsysblock_ptb, newenvblock_ptb, energy, expect_magz, expect_magx, ent_s, fd\n",
    "    #return newsysblock_ptb, newenvblock_ptb, energy, expect_magz, expect_magx"
   ]
  },
  {
   "cell_type": "code",
   "execution_count": 30,
   "id": "2aa5af05",
   "metadata": {},
   "outputs": [],
   "source": [
    "def infinite_system_algorithm(J,h,L,m,d,p):\n",
    "    H1 = h*Sx1 + d*Sz1\n",
    "    H2 = (h+p)*Sx1 + d*Sz1\n",
    "    Magz1 = Sz1\n",
    "    Magx1 = Sx1\n",
    "    initial_sysblock = SysBlock(length=1, basis_size=model_d, operator_dict={\n",
    "        \"H\": H1,\n",
    "        \"Magz\":Magz1,\n",
    "        \"Magx\":Magx1,\n",
    "        \"conn_Sz\": Sz1,\n",
    "        \"conn_Sx\": Sx1,\n",
    "        \"ident_sys\":identity(model_d),\n",
    "        })\n",
    "    initial_envblock = EnvBlock(length=1, basis_size=model_d, operator_dict={\n",
    "        \"H\": H1,\n",
    "        \"Magz\":Magz1,\n",
    "        \"Magx\":Magx1,\n",
    "        \"conn_Sz\": Sz1,\n",
    "        \"conn_Sx\": Sx1,\n",
    "        \"ident_env\":identity(model_d),\n",
    "        })\n",
    "    initial_sysblock_ptb = SysBlock_Ptb(length=1, basis_size=model_d, operator_dict={\n",
    "        \"H\": H2,\n",
    "        \"Magz\":Magz1,\n",
    "        \"Magx\":Magx1,\n",
    "        \"conn_Sz\": Sz1,\n",
    "        \"conn_Sx\": Sx1,\n",
    "        \"ident_sys\":identity(model_d),\n",
    "        })\n",
    "    initial_envblock_ptb = EnvBlock_Ptb(length=1, basis_size=model_d, operator_dict={\n",
    "        \"H\": H2,\n",
    "        \"Magz\":Magz1,\n",
    "        \"Magx\":Magx1,\n",
    "        \"conn_Sz\": Sz1,\n",
    "        \"conn_Sx\": Sx1,\n",
    "        \"ident_env\":identity(model_d),\n",
    "        })\n",
    "    sysblock = initial_sysblock\n",
    "    envblock = initial_envblock\n",
    "    envblock_ptb = initial_envblock_ptb\n",
    "    sysblock_ptb = initial_sysblock_ptb\n",
    "\n",
    "    # Repeatedly enlarge the system by performing a single DMRG step, using a\n",
    "    # reflection of the current block as the environment.\n",
    "    #while 2 * sysblock.length < L:\n",
    "    while 2 * sysblock_ptb.length < L:\n",
    "        #print(\"L =\", sysblock.length * 2 + 2)\n",
    "        sysblock, envblock, sysblock_ptb, envblock_ptb, energy, expect_magz, expect_magx, ent_s, fd = single_dmrg_step(J,h,d,p,sysblock, envblock, sysblock_ptb, envblock_ptb, m=m)\n",
    "        #sysblock, envblock, energy, expect_magz, expect_magx, ent_s= single_dmrg_step(J,h,d,p,sysblock, envblock, m=m)\n",
    "        #sysblock_ptb, envblock_ptb, energy, expect_magz, expect_magx= single_dmrg_step(J,h,d,p,sysblock_ptb, envblock_ptb, m=m)   \n",
    "    #print(\"E/L =\", energy / (block.length * 2))\n",
    "    #print(\"Magz/L =\", expect_magz / (block.length * 2))\n",
    "    #print(\"Magx/L =\", expect_magx / (block.length * 2))\n",
    "    #print(\"L =\", block.length * 2)\n",
    "#     EXP_MAGZ = expect_magz / (sysblock.length * 2)\n",
    "#     EXP_MAGX = expect_magx / (sysblock.length * 2)\n",
    "    EXP_MAGZ = expect_magz / (sysblock_ptb.length * 2)\n",
    "    EXP_MAGX = expect_magx / (sysblock_ptb.length * 2)\n",
    "    #return energy, EXP_MAGZ, EXP_MAGX, ent_s\n",
    "    return energy, EXP_MAGZ, EXP_MAGX, ent_s,fd\n",
    "    #return energy, EXP_MAGZ, EXP_MAGX"
   ]
  },
  {
   "cell_type": "code",
   "execution_count": 31,
   "id": "2d016b80-cc94-4f58-ae64-8ad0189d7d85",
   "metadata": {},
   "outputs": [],
   "source": [
    "#energy, EXP_MAGZ, EXP_MAGX= infinite_system_algorithm(J=-1,h=0,L=4,m=30,d=1e-8,p=0)\n",
    "energy, EXP_MAGZ, EXP_MAGX, ent_s,fd = infinite_system_algorithm(J=-1,h=0,L=4,m=30,d=1e-8,p=0)"
   ]
  },
  {
   "cell_type": "code",
   "execution_count": 41,
   "id": "d195b4c8-bcc4-4c63-b9c3-8487ad997038",
   "metadata": {},
   "outputs": [
    {
     "name": "stdout",
     "output_type": "stream",
     "text": [
      "fd = [[0.9996688]]\n",
      "fd = [[0.99966699]]\n",
      "fd = [[0.9996609]]\n",
      "fd = [[0.99965005]]\n",
      "fd = [[0.9996335]]\n",
      "fd = [[0.99960967]]\n",
      "fd = [[0.9995759]]\n",
      "fd = [[0.99952753]]\n",
      "fd = [[0.99945592]]\n",
      "fd = [[0.99934319]]\n",
      "fd = [[0.99914589]]\n",
      "fd = [[0.99870519]]\n",
      "fd = [[0.99716895]]\n",
      "fd = [[0.98982537]]\n",
      "fd = [[0.99837682]]\n",
      "fd = [[0.99930191]]\n",
      "fd = [[0.99960262]]\n",
      "fd = [[0.99974414]]\n",
      "fd = [[0.99982309]]\n",
      "fd = [[0.99987173]]\n",
      "fd = [[0.99990375]]\n",
      "fd = [[0.99992584]]\n",
      "fd = [[0.99994165]]\n",
      "fd = [[0.99995329]]\n",
      "fd = [[0.99996205]]\n",
      "fd = [[0.99996879]]\n",
      "fd = [[0.99997405]]\n",
      "fd = [[0.99997821]]\n",
      "fd = [[0.99998156]]\n",
      "fd = [[0.99998427]]\n",
      "fd = [[0.99998649]]\n",
      "fd = [[0.99998832]]\n",
      "fd = [[0.99998985]]\n",
      "fd = [[0.99999113]]\n",
      "fd = [[0.99999221]]\n",
      "fd = [[0.99999313]]\n",
      "fd = [[0.99999392]]\n",
      "fd = [[0.99999459]]\n",
      "fd = [[0.99999518]]\n",
      "fd = [[0.99999568]]\n"
     ]
    }
   ],
   "source": [
    "disc_point = 40\n",
    "h_arr = np.linspace(0,3,disc_point)\n",
    "fd_arr = np.linspace(0,1,disc_point)\n",
    "ents_arr = np.linspace(0,1,disc_point)\n",
    "magz_arr = np.linspace(0,2,disc_point)\n",
    "magx_arr = np.linspace(0,2,disc_point)\n",
    "for i in range(disc_point):\n",
    "    energy, EXP_MAGZ,EXP_MAGX,ent_s,fd = infinite_system_algorithm(J = -1,h=-h_arr[i],L=100, m=35,d=1e-8,p=0.01)\n",
    "    #energy, EXP_MAGZ,EXP_MAGX,ent_s = infinite_system_algorithm(J = -1,h=-h_arr[i],L=18, m=30,d=1e-8,p=0.01)\n",
    "    #energy, EXP_MAGZ,EXP_MAGX = infinite_system_algorithm(J = -1,h=-h_arr[i],L=18, m=30,d=1e-8,p=0.01)\n",
    "    fd_arr[i] = fd\n",
    "    magz_arr[i] =  EXP_MAGZ\n",
    "    magx_arr[i] =  EXP_MAGX\n",
    "    ents_arr[i] = ent_s\n",
    "    #print(\"Magz =\", EXP_MAGZ[0])\n",
    "    #print(\"Magx =\", EXP_MAGX[0])\n",
    "    print(\"fd =\", fd)"
   ]
  },
  {
   "cell_type": "code",
   "execution_count": 37,
   "id": "4846f815",
   "metadata": {},
   "outputs": [
    {
     "data": {
      "text/plain": [
       "[<matplotlib.lines.Line2D at 0x7ff0f7bf55a0>]"
      ]
     },
     "execution_count": 37,
     "metadata": {},
     "output_type": "execute_result"
    },
    {
     "data": {
      "image/png": "[encoded data removed]",
      "text/plain": [
       "<Figure size 432x288 with 1 Axes>"
      ]
     },
     "metadata": {
      "needs_background": "light"
     },
     "output_type": "display_data"
    }
   ],
   "source": [
    "plt.plot(h_arr,abs(fd_arr))"
   ]
  },
  {
   "cell_type": "code",
   "execution_count": 14,
   "id": "0629e87d-957c-4cb4-8733-fbcc8868ecb6",
   "metadata": {},
   "outputs": [
    {
     "data": {
      "text/plain": [
       "array([0.        , 0.02564103, 0.05128205, 0.07692308, 0.1025641 ,\n",
       "       0.12820513, 0.15384615, 0.17948718, 0.20512821, 0.23076923,\n",
       "       0.25641026, 0.28205128, 0.30769231, 0.33333333, 0.35897436,\n",
       "       0.38461538, 0.41025641, 0.43589744, 0.46153846, 0.48717949,\n",
       "       0.51282051, 0.53846154, 0.56410256, 0.58974359, 0.61538462,\n",
       "       0.64102564, 0.66666667, 0.69230769, 0.71794872, 0.74358974,\n",
       "       0.76923077, 0.79487179, 0.82051282, 0.84615385, 0.87179487,\n",
       "       0.8974359 , 0.92307692, 0.94871795, 0.97435897, 1.        ])"
      ]
     },
     "execution_count": 14,
     "metadata": {},
     "output_type": "execute_result"
    }
   ],
   "source": [
    "abs(fd_arr)"
   ]
  },
  {
   "cell_type": "code",
   "execution_count": 36,
   "id": "68580bbb-7909-4d42-b9c1-5e70482d7500",
   "metadata": {},
   "outputs": [
    {
     "data": {
      "text/plain": [
       "<matplotlib.collections.PathCollection at 0x7ff0fbe11f90>"
      ]
     },
     "execution_count": 36,
     "metadata": {},
     "output_type": "execute_result"
    },
    {
     "data": {
      "image/png": "[encoded data removed]",
      "text/plain": [
       "<Figure size 432x288 with 1 Axes>"
      ]
     },
     "metadata": {
      "needs_background": "light"
     },
     "output_type": "display_data"
    }
   ],
   "source": [
    "plt.scatter(h_arr,np.abs(ents_arr))"
   ]
  },
  {
   "cell_type": "code",
   "execution_count": 42,
   "id": "500297f8",
   "metadata": {},
   "outputs": [
    {
     "data": {
      "text/plain": [
       "Text(0.5, 0.98, 'Infinite DMRG Phase Diagram')"
      ]
     },
     "execution_count": 42,
     "metadata": {},
     "output_type": "execute_result"
    },
    {
     "data": {
      "image/png": "[encoded data removed]",
      "text/plain": [
       "<Figure size 1080x360 with 4 Axes>"
      ]
     },
     "metadata": {
      "needs_background": "light"
     },
     "output_type": "display_data"
    }
   ],
   "source": [
    "n = 100\n",
    "fig, (fig_magz, fig_magx, fig_ent_s, fig_fd) = plt.subplots(1,4,figsize=(15, 5), constrained_layout=True, sharey=True)\n",
    "\n",
    "fig_magz.scatter(h_arr,np.abs(magz_arr),label=r'$N= %d$'%n)\n",
    "#fig_magz.set_title(r'M_(z)')\n",
    "fig_magz.set_xlabel(r'$h$')\n",
    "fig_magz.set_ylabel(r'$M_z(h)$')\n",
    "fig_magz.legend()\n",
    "\n",
    "\n",
    "fig_magx.scatter(h_arr,np.abs(magx_arr),label=r'$N= %d$'%n)\n",
    "fig_magx.set_xlabel(r'$h$')\n",
    "fig_magx.set_ylabel(r'$M_x(h)$')\n",
    "#fig_magx.set_title('M_(x)')\n",
    "fig_magx.legend()\n",
    "\n",
    "fig_ent_s.scatter(h_arr,np.abs(ents_arr),label=r'$N= %d$'%n)\n",
    "#fig_ent_s.scatter(h_arr,np.log(n*np.ones(disc_point)),label=r'$ln2$')\n",
    "fig_ent_s.set_xlabel(r'$h$')\n",
    "fig_ent_s.set_ylabel(r'$S_{sys}(h)$')\n",
    "#fig_magx.set_title('M_(x)')\n",
    "fig_ent_s.legend()\n",
    "\n",
    "fig_fd.plot(h_arr,np.abs(fd_arr),label=r'$N= %d$'%n)\n",
    "fig_fd.set_xlabel(r'$h$')\n",
    "fig_fd.set_ylabel(r'$FD(h)$')\n",
    "#fig_magx.set_title('M_(x)')\n",
    "fig_fd.legend()\n",
    "\n",
    "fig.suptitle('Infinite DMRG Phase Diagram', fontsize=16)\n",
    "#plt.savefig('Infinite DMRG Phase Diagram N=%d.png'%n, dpi=300, bbox_inches='tight')"
   ]
  },
  {
   "cell_type": "code",
   "execution_count": 30,
   "id": "5ae77790-35f6-49eb-9731-ce951f3e25fd",
   "metadata": {},
   "outputs": [
    {
     "data": {
      "text/plain": [
       "array([-9.67233461e-01, -1.44667536e-02, -8.53948848e-04, -1.27476146e-04,\n",
       "       -3.05869407e-05, -9.81625509e-06, -3.84078377e-06, -1.73821473e-06,\n",
       "       -8.81591759e-07, -4.91405234e-07, -2.97115812e-07, -1.92801269e-07,\n",
       "       -1.32944025e-07, -9.64926950e-08, -7.30892753e-08, -5.73558432e-08,\n",
       "       -4.63412442e-08, -3.83589964e-08, -3.23976824e-08, -2.78318708e-08,\n",
       "       -2.42541862e-08, -2.13941997e-08, -1.90724996e-08, -1.71564091e-08,\n",
       "       -1.55559738e-08, -1.42024266e-08, -1.30460615e-08, -1.20489015e-08,\n",
       "       -1.11816223e-08, -1.04220948e-08, -9.75179987e-09, -9.15729363e-09,\n",
       "       -8.62574408e-09, -8.14881479e-09, -7.71953696e-09, -7.32981976e-09,\n",
       "       -6.97600746e-09, -6.65268134e-09, -6.35677838e-09, -6.08455737e-09])"
      ]
     },
     "execution_count": 30,
     "metadata": {},
     "output_type": "execute_result"
    }
   ],
   "source": [
    "magz_arr"
   ]
  },
  {
   "cell_type": "code",
   "execution_count": 11,
   "id": "e180a771",
   "metadata": {},
   "outputs": [],
   "source": [
    "def graphic(sys_block, env_block, sys_label=\"l\",env_label=\"r\"):\n",
    "    \"\"\"Returns a graphical representation of the DMRG step we are about to\n",
    "    perform, using '=' to represent the system sites, '-' to represent the\n",
    "    environment sites, and '**' to represent the two intermediate sites.\n",
    "    \"\"\"\n",
    "    assert sys_label in (\"l\")\n",
    "    assert env_label in (\"r\")\n",
    "    graphic = (\"=\" * sys_block.length) + \"**\" + (\"-\" * env_block.length)\n",
    "    return graphic"
   ]
  },
  {
   "cell_type": "code",
   "execution_count": 12,
   "id": "b184628c",
   "metadata": {},
   "outputs": [],
   "source": [
    "def finite_system_algorithm(J,h,L,d,m_warmup, m_sweep_list):\n",
    "    assert L % 2 == 0  # require that L is an even number\n",
    "\n",
    "    # To keep things simple, this dictionary is not actually saved to disk, but\n",
    "    # we use it to represent persistent storage.\n",
    "    sysblock_disk = {}  # \"disk\" storage for Block objects\n",
    "    envblock_disk = {}\n",
    "    # Use the infinite system algorithm to build up to desired size.  Each time\n",
    "    # we construct a block, we save it for future reference as both a left\n",
    "    # (\"l\") and right (\"r\") block, as the infinite system algorithm assumes the\n",
    "    # environment is a mirror image of the system.\n",
    "    H1 = h*Sx1 + d*Sz1\n",
    "    Magz1 = Sz1\n",
    "    Magx1 = Sx1\n",
    "    initial_sysblock = SysBlock(length=1, basis_size=model_d, operator_dict={\n",
    "        \"H\": H1,\n",
    "        \"Magz\":Magz1,\n",
    "        \"Magx\":Magx1,\n",
    "        \"conn_Sz\": Sz1,\n",
    "        \"conn_Sx\": Sx1,\n",
    "        })\n",
    "    initial_envblock = EnvBlock(length=1, basis_size=model_d, operator_dict={\n",
    "        \"H\": H1,\n",
    "        \"Magz\":Magz1,\n",
    "        \"Magx\":Magx1,\n",
    "        \"conn_Sz\": Sz1,\n",
    "        \"conn_Sx\": Sx1,\n",
    "        })\n",
    "    sysblock = initial_sysblock\n",
    "    envblock = initial_envblock\n",
    "    sysblock_disk[\"l\", sysblock.length] = sysblock\n",
    "    envblock_disk[\"r\", envblock.length] = envblock\n",
    "    while 2 * sysblock.length < L:\n",
    "        # Perform a single DMRG step and save the new Block to \"disk\"\n",
    "        #print(graphic(sysblock, envblock))\n",
    "        sysblock, envblock, energy, expect_magz, expect_magx, ent_s, psi0 = single_dmrg_step(J,h,d,sysblock, envblock, m=m_warmup)\n",
    "        #print(\"E/L =\", energy / (sysblock.length * 2))\n",
    "        sysblock_disk[\"l\", sysblock.length] = sysblock\n",
    "        envblock_disk[\"r\", envblock.length] = envblock\n",
    "\n",
    "    # Now that the system is built up to its full size, we perform sweeps using\n",
    "    # the finite system algorithm.  At first the left block will act as the\n",
    "    # system, growing at the expense of the right block (the environment), but\n",
    "    # once we come to the end of the chain these roles will be reversed.\n",
    "    sys_label, env_label = \"l\", \"r\"\n",
    "    sys_block = sysblock; del sysblock  # rename the sysvariable\n",
    "    env_block = envblock; del envblock  # rename the envvariable\n",
    "    for m in m_sweep_list:\n",
    "        while True:\n",
    "            # Load the appropriate environment block from \"disk\"\n",
    "            env_block = envblock_disk[env_label, L - sys_block.length - 2]\n",
    "            if env_block.length == 1:\n",
    "                while True:\n",
    "                # We've come to the end of the chain, so we reverse course.\n",
    "#                 sys_block, env_block = env_block, sys_block\n",
    "#                 sys_label, env_label = env_label, sys_label\n",
    "                    sys_block = sysblock_disk[sys_label, L - env_block.length - 2]\n",
    "                    env_block = envblock_disk[env_label, env_block.length]\n",
    "                    #print(graphic(sys_block, env_block, sys_label),sys_block.length,env_block.length)\n",
    "                    sys_block, env_block, energy, expect_magz, expect_magx,ent_s, psi0 = single_dmrg_step(J,h,d,sys_block, env_block, m=m)\n",
    "                    #print(\"E/L =\", energy / L)\n",
    "                    #print(\"MAGZ/L =\", expect_magz[0] / L)\n",
    "                    #print(\"MAGX/L =\", expect_magx[0] / L)\n",
    "                    # Save the block from this step to disk.\n",
    "                    envblock_disk[env_label, env_block.length] = env_block\n",
    "                    # Check whether we just completed a full sweep.\n",
    "                    if env_block.length == L - 2:\n",
    "                        env_block = envblock_disk[env_label, env_block.length-2]\n",
    "                        break  # escape from the \"while True\" loop\n",
    "            ## Perform a single DMRG step.\n",
    "            #print(graphic(sys_block, env_block),sys_block.length,env_block.length)\n",
    "            sys_block, env_block, energy, expect_magz, expect_magx,ent_s, psi0 = single_dmrg_step(J,h,d,sys_block, env_block, m=m)\n",
    "            #print(\"E/L =\", energy / L)\n",
    "            #print(\"MAGZ/L =\", expect_magz[0] / L)\n",
    "            #print(\"MAGX/L =\", expect_magx[0] / L)\n",
    "            # Save the block from this step to disk.\n",
    "            sysblock_disk[sys_label, sys_block.length] = sys_block\n",
    "            # Check whether we just completed a full sweep.\n",
    "            if 2 * sys_block.length == L:\n",
    "                break  # escape from the \"while True\" loop\n",
    "    EXP_MAGZ = expect_magz[0] / L\n",
    "    EXP_MAGX = expect_magx[0] / L\n",
    "    return  energy, EXP_MAGZ,EXP_MAGX, ent_s, psi0\n",
    "#if __name__ == \"__main__\":\n",
    "    #np.set_printoptions(precision=10, suppress=True, threshold=10000, linewidth=300)\n",
    "\n",
    "    #infinite_system_algorithm(L=100, m=20)\n",
    "    #finite_system_algorithm(J=-1,h=-1,L=64, m_warmup=10, m_sweep_list=[10, 20, 30, 40, 40])"
   ]
  },
  {
   "cell_type": "code",
   "execution_count": 13,
   "id": "ded1a4d3-5160-440f-88ae-0e73b6d4f0ae",
   "metadata": {},
   "outputs": [
    {
     "name": "stdout",
     "output_type": "stream",
     "text": [
      "Magz = -0.9999749981692029\n",
      "Magx = -0.006666770788016428\n",
      "Magz = -0.24091104815401043\n",
      "Magx = -0.05269806839414204\n",
      "Magz = -0.00578842557647589\n",
      "Magx = -0.09903004201524389\n",
      "Magz = -0.000590124681172625\n",
      "Magx = -0.14613349151606597\n",
      "Magz = -0.0001146125558187568\n",
      "Magx = -0.19479971203337634\n",
      "Magz = -3.2064603698829984e-05\n",
      "Magx = -0.2461380562489914\n",
      "Magz = -1.1363268557625558e-05\n",
      "Magx = -0.3013702768547262\n",
      "Magz = -4.757713390664738e-06\n",
      "Magx = -0.3613353090360735\n",
      "Magz = -2.25742325245711e-06\n",
      "Magx = -0.42575271159583544\n",
      "Magz = -1.1823702800358344e-06\n",
      "Magx = -0.49264838876485273\n",
      "Magz = -6.721964116995771e-07\n",
      "Magx = -0.5586049179758364\n",
      "Magz = -4.1016846772749343e-07\n",
      "Magx = -0.6199848843976052\n",
      "Magz = -2.6636987357497866e-07\n",
      "Magx = -0.6742645916062114\n",
      "Magz = -1.8274251400070737e-07\n",
      "Magx = -0.7205287091344391\n",
      "Magz = -1.3150203502972543e-07\n",
      "Magx = -0.7591165796444539\n",
      "Magz = -9.858657376571323e-08\n",
      "Magx = -0.7910027490006204\n",
      "Magz = -7.652522190463677e-08\n",
      "Magx = -0.8173253485999313\n",
      "Magz = -6.11694646046601e-08\n",
      "Magx = -0.8391421928627397\n",
      "Magz = -5.0119031915392874e-08\n",
      "Magx = -0.8573444838763881\n",
      "Magz = -4.193137898937197e-08\n",
      "Magx = -0.8726491837451903\n",
      "Magz = -3.570662330624567e-08\n",
      "Magx = -0.885621370915178\n",
      "Magz = -3.086783565096433e-08\n",
      "Magx = -0.8967033799588094\n",
      "Magz = -2.70186600708396e-08\n",
      "Magx = -0.9062416773806953\n",
      "Magz = -2.3936955602839777e-08\n",
      "Magx = -0.9145089070551737\n",
      "Magz = -2.139004055360753e-08\n",
      "Magx = -0.9217210743770666\n",
      "Magz = -1.9288568931889276e-08\n",
      "Magx = -0.928050639879971\n",
      "Magz = -1.7518700765513835e-08\n",
      "Magx = -0.9336364130261622\n",
      "Magz = -1.6018224635594436e-08\n",
      "Magx = -0.9385910183461723\n",
      "Magz = -1.4725334139542579e-08\n",
      "Magx = -0.9430065504327668\n",
      "Magz = -1.3625354716023663e-08\n",
      "Magx = -0.9469588794351543\n"
     ]
    }
   ],
   "source": [
    "disc_point = 30\n",
    "h_arr = np.linspace(0,2,disc_point)\n",
    "magz_arr = np.linspace(0,2,disc_point)\n",
    "magx_arr = np.linspace(0,2,disc_point)\n",
    "fd_arr = np.linspace(0,2,disc_point)\n",
    "ents_arr = np.linspace(0,2,disc_point)\n",
    "for i in range(disc_point):\n",
    "    energy, EXP_MAGZ,EXP_MAGX,ent_s, psi0 = finite_system_algorithm(J=-1,h=h_arr[i],d=1e-8,L=6, m_warmup=50, m_sweep_list=[50, 50])\n",
    "    energy, EXP_MAGZ,EXP_MAGX,ent_ss, ppsi0 = finite_system_algorithm(J=-1,h=h_arr[i]+0.01,d=1e-8,L=6, m_warmup=50, m_sweep_list=[50, 50])\n",
    "    magz_arr[i] =  EXP_MAGZ[0]\n",
    "    magx_arr[i] =  EXP_MAGX[0]\n",
    "    fd_arr[i] = csr_matrix.getH(psi0)@ppsi0\n",
    "    ents_arr[i] = ent_s    \n",
    "    print(\"Magz =\", EXP_MAGZ[0])\n",
    "    print(\"Magx =\", EXP_MAGX[0])"
   ]
  },
  {
   "cell_type": "code",
   "execution_count": 14,
   "id": "4f90fb9d-bbea-4a34-aa5e-5ba6d0590c0e",
   "metadata": {},
   "outputs": [
    {
     "data": {
      "image/png": "[encoded data removed]",
      "text/plain": [
       "<Figure size 1080x360 with 4 Axes>"
      ]
     },
     "metadata": {
      "needs_background": "light"
     },
     "output_type": "display_data"
    }
   ],
   "source": [
    "n = 6\n",
    "fig, (fig_magz, fig_magx, fig_ent_s, fig_fd) = plt.subplots(1,4,figsize=(15, 5), constrained_layout=True, sharey=True)\n",
    "\n",
    "fig_magz.scatter(h_arr,np.abs(magz_arr),label=r'$N= %d$'%n)\n",
    "#fig_magz.set_title(r'M_(z)')\n",
    "fig_magz.set_xlabel(r'$h$')\n",
    "fig_magz.set_ylabel(r'$M_z(h)$')\n",
    "fig_magz.legend()\n",
    "\n",
    "\n",
    "fig_magx.scatter(h_arr,np.abs(magx_arr),label=r'$N= %d$'%n)\n",
    "fig_magx.set_xlabel(r'$h$')\n",
    "fig_magx.set_ylabel(r'$M_x(h)$')\n",
    "#fig_magx.set_title('M_(x)')\n",
    "fig_magx.legend()\n",
    "\n",
    "fig_ent_s.scatter(h_arr,np.abs(ents_arr),label=r'$N= %d$'%n)\n",
    "#fig_ent_s.scatter(h_arr,np.log(n*np.ones(disc_point)),label=r'$ln2$')\n",
    "fig_ent_s.set_xlabel(r'$h$')\n",
    "fig_ent_s.set_ylabel(r'$S_{sys}(h)$')\n",
    "#fig_magx.set_title('M_(x)')\n",
    "fig_ent_s.legend()\n",
    "\n",
    "fig_fd.plot(h_arr,np.abs(fd_arr),label=r'$N= %d$'%n)\n",
    "fig_fd.set_xlabel(r'$h$')\n",
    "fig_fd.set_ylabel(r'$FD(h)$')\n",
    "#fig_magx.set_title('M_(x)')\n",
    "fig_fd.legend()\n",
    "\n",
    "fig.suptitle('Finite DMRG Phase Diagram', fontsize=16)\n",
    "plt.savefig('Finite DMRG Phase Diagram N=%d.png'%n, dpi=300, bbox_inches='tight')"
   ]
  },
  {
   "cell_type": "code",
   "execution_count": 15,
   "id": "a39b367d-2da3-4c1b-b0b1-c2b55e59f6fe",
   "metadata": {},
   "outputs": [
    {
     "data": {
      "text/plain": [
       "[<matplotlib.lines.Line2D at 0x7f5e7ec8a950>]"
      ]
     },
     "execution_count": 15,
     "metadata": {},
     "output_type": "execute_result"
    },
    {
     "data": {
      "image/png": "[encoded data removed]",
      "text/plain": [
       "<Figure size 432x288 with 1 Axes>"
      ]
     },
     "metadata": {
      "needs_background": "light"
     },
     "output_type": "display_data"
    }
   ],
   "source": [
    "plt.plot(h_arr,abs(fd_arr))"
   ]
  },
  {
   "cell_type": "code",
   "execution_count": null,
   "id": "f3f05e0a-ab21-464e-8a38-1fa4b6aed6a1",
   "metadata": {},
   "outputs": [],
   "source": [
    "scatter(h_arr,np.abs(ents_arr),label=r'$N= %d$'%n)"
   ]
  },
  {
   "cell_type": "code",
   "execution_count": 78,
   "id": "3b477e89-5289-4a3d-92ca-ecd682549ae1",
   "metadata": {},
   "outputs": [],
   "source": [
    "a = np.array([[1],[2],[3],[4],[5],[6]])\n",
    "re_a = a.reshape([3, -1], order=\"C\") #sys = 3\n",
    "re_b= a.reshape([2, -1], order=\"C\") #sys=2\n"
   ]
  },
  {
   "cell_type": "code",
   "execution_count": 79,
   "id": "7046df37-9b1b-4951-bb31-b6953d834f28",
   "metadata": {},
   "outputs": [
    {
     "data": {
      "text/plain": [
       "array([[1, 2],\n",
       "       [3, 4],\n",
       "       [5, 6]])"
      ]
     },
     "execution_count": 79,
     "metadata": {},
     "output_type": "execute_result"
    }
   ],
   "source": [
    "re_a"
   ]
  },
  {
   "cell_type": "code",
   "execution_count": 80,
   "id": "25fc8adb-4973-4ee4-9149-55244829d303",
   "metadata": {},
   "outputs": [
    {
     "data": {
      "text/plain": [
       "array([[1, 2, 3],\n",
       "       [4, 5, 6]])"
      ]
     },
     "execution_count": 80,
     "metadata": {},
     "output_type": "execute_result"
    }
   ],
   "source": [
    "re_b"
   ]
  },
  {
   "cell_type": "code",
   "execution_count": 81,
   "id": "c13ac285-9f62-47fc-9eb0-4125c7456c8a",
   "metadata": {},
   "outputs": [],
   "source": [
    "ua,sa,vha =svd(re_a,full_matrices=False)"
   ]
  },
  {
   "cell_type": "code",
   "execution_count": 82,
   "id": "22b8b58b-45f2-45b9-b577-186cbf5cd00b",
   "metadata": {},
   "outputs": [],
   "source": [
    "ub,sb,vhb =svd(re_b,full_matrices=False)"
   ]
  },
  {
   "cell_type": "code",
   "execution_count": 83,
   "id": "b36cb734-a874-4772-a402-e04edcbc2f61",
   "metadata": {},
   "outputs": [
    {
     "data": {
      "text/plain": [
       "array([[-0.2298477 ,  0.88346102],\n",
       "       [-0.52474482,  0.24078249],\n",
       "       [-0.81964194, -0.40189603]])"
      ]
     },
     "execution_count": 83,
     "metadata": {},
     "output_type": "execute_result"
    }
   ],
   "source": [
    "ua"
   ]
  },
  {
   "cell_type": "code",
   "execution_count": 84,
   "id": "74df6f5e-af5f-4107-953c-22ce0bb7c266",
   "metadata": {},
   "outputs": [
    {
     "data": {
      "text/plain": [
       "array([9.52551809, 0.51430058])"
      ]
     },
     "execution_count": 84,
     "metadata": {},
     "output_type": "execute_result"
    }
   ],
   "source": [
    "sa"
   ]
  },
  {
   "cell_type": "code",
   "execution_count": 85,
   "id": "cc153295-47f5-4cb8-a99b-da321b3bdb5b",
   "metadata": {},
   "outputs": [
    {
     "data": {
      "text/plain": [
       "array([[-0.61962948, -0.78489445],\n",
       "       [-0.78489445,  0.61962948]])"
      ]
     },
     "execution_count": 85,
     "metadata": {},
     "output_type": "execute_result"
    }
   ],
   "source": [
    "vha"
   ]
  },
  {
   "cell_type": "code",
   "execution_count": 86,
   "id": "4a361324-0aef-49cf-8b10-698e9a131547",
   "metadata": {},
   "outputs": [
    {
     "data": {
      "text/plain": [
       "array([[-0.3863177 , -0.92236578],\n",
       "       [-0.92236578,  0.3863177 ]])"
      ]
     },
     "execution_count": 86,
     "metadata": {},
     "output_type": "execute_result"
    }
   ],
   "source": [
    "ub"
   ]
  },
  {
   "cell_type": "code",
   "execution_count": 87,
   "id": "c3effc33-052c-420b-b21e-aa2b9b372d7b",
   "metadata": {},
   "outputs": [
    {
     "data": {
      "text/plain": [
       "array([9.508032  , 0.77286964])"
      ]
     },
     "execution_count": 87,
     "metadata": {},
     "output_type": "execute_result"
    }
   ],
   "source": [
    "sb"
   ]
  },
  {
   "cell_type": "code",
   "execution_count": 88,
   "id": "8ae28f27-a2d0-482a-8fa4-37418a1aec9a",
   "metadata": {},
   "outputs": [
    {
     "data": {
      "text/plain": [
       "array([[-0.42866713, -0.56630692, -0.7039467 ],\n",
       "       [ 0.80596391,  0.11238241, -0.58119908]])"
      ]
     },
     "execution_count": 88,
     "metadata": {},
     "output_type": "execute_result"
    }
   ],
   "source": [
    "vhb"
   ]
  },
  {
   "cell_type": "code",
   "execution_count": 45,
   "id": "5f2b7a9d-c7f3-4599-bc11-ab431a7c3e72",
   "metadata": {},
   "outputs": [
    {
     "data": {
      "text/plain": [
       "<30x30 sparse matrix of type '<class 'numpy.float64'>'\n",
       "\twith 558 stored elements in Compressed Sparse Row format>"
      ]
     },
     "execution_count": 45,
     "metadata": {},
     "output_type": "execute_result"
    }
   ],
   "source": [
    "sysblock.operator_dict[]"
   ]
  },
  {
   "cell_type": "code",
   "execution_count": 76,
   "id": "c9f7f356-135a-4a02-b86c-0780b39e3ed6",
   "metadata": {},
   "outputs": [
    {
     "name": "stdout",
     "output_type": "stream",
     "text": [
      "H\n",
      "Magz\n",
      "Magx\n",
      "conn_Sz\n",
      "conn_Sx\n",
      "ident_sys\n"
     ]
    }
   ],
   "source": [
    "new_sys_operator_dict = {}\n",
    "for name, op in sysblock.operator_dict.items():\n",
    "        new_sys_operator_dict[name] = op\n",
    "        print(name)\n",
    "#new_sys_operator_dict['ident_sys'] = new_sys_operator_dict['ident_sys']*3"
   ]
  },
  {
   "cell_type": "code",
   "execution_count": 77,
   "id": "089b5e63-d37c-4617-9601-07c705443350",
   "metadata": {},
   "outputs": [
    {
     "data": {
      "text/plain": [
       "dict_items([('H', <30x30 sparse matrix of type '<class 'numpy.float64'>'\n",
       "\twith 558 stored elements in Compressed Sparse Row format>), ('Magz', <30x30 sparse matrix of type '<class 'numpy.float64'>'\n",
       "\twith 480 stored elements in Compressed Sparse Row format>), ('Magx', <30x30 sparse matrix of type '<class 'numpy.float64'>'\n",
       "\twith 558 stored elements in Compressed Sparse Row format>), ('conn_Sz', <30x30 sparse matrix of type '<class 'numpy.float64'>'\n",
       "\twith 102 stored elements in Compressed Sparse Row format>), ('conn_Sx', <30x30 sparse matrix of type '<class 'numpy.float64'>'\n",
       "\twith 101 stored elements in Compressed Sparse Row format>), ('ident_sys', <30x30 sparse matrix of type '<class 'numpy.float64'>'\n",
       "\twith 102 stored elements in Compressed Sparse Row format>)])"
      ]
     },
     "execution_count": 77,
     "metadata": {},
     "output_type": "execute_result"
    }
   ],
   "source": [
    "sysblock.operator_dict.items()"
   ]
  },
  {
   "cell_type": "code",
   "execution_count": 80,
   "id": "75e6f5f5-fff1-49ee-be00-95beb8e5c32e",
   "metadata": {},
   "outputs": [
    {
     "data": {
      "text/plain": [
       "'ident_sys'"
      ]
     },
     "execution_count": 80,
     "metadata": {},
     "output_type": "execute_result"
    }
   ],
   "source": [
    "name"
   ]
  },
  {
   "cell_type": "code",
   "execution_count": 78,
   "id": "4f18c1b4-7740-4314-8ce2-9a26035f3a23",
   "metadata": {},
   "outputs": [
    {
     "data": {
      "text/plain": [
       "array([[ 1.00000000e+00, -1.82877704e-17, -5.74867764e-19,\n",
       "        -3.63467402e-22, -2.03491833e-20, -5.14892172e-22,\n",
       "         1.69040962e-21, -2.34328823e-26,  4.34377265e-28,\n",
       "         0.00000000e+00,  0.00000000e+00,  0.00000000e+00,\n",
       "         0.00000000e+00,  0.00000000e+00,  0.00000000e+00,\n",
       "         0.00000000e+00,  0.00000000e+00,  0.00000000e+00,\n",
       "         0.00000000e+00,  0.00000000e+00,  0.00000000e+00,\n",
       "         0.00000000e+00,  0.00000000e+00,  0.00000000e+00,\n",
       "         0.00000000e+00,  0.00000000e+00,  0.00000000e+00,\n",
       "         0.00000000e+00,  0.00000000e+00,  0.00000000e+00],\n",
       "       [-1.82877704e-17,  1.00000000e+00,  7.13944967e-17,\n",
       "        -3.06568796e-18,  4.02403740e-19,  1.00142977e-20,\n",
       "        -4.82042090e-20, -1.85001147e-22,  5.60061672e-24,\n",
       "         0.00000000e+00,  0.00000000e+00,  0.00000000e+00,\n",
       "         0.00000000e+00,  0.00000000e+00,  0.00000000e+00,\n",
       "         0.00000000e+00,  0.00000000e+00,  0.00000000e+00,\n",
       "         0.00000000e+00,  0.00000000e+00,  0.00000000e+00,\n",
       "         0.00000000e+00,  0.00000000e+00,  0.00000000e+00,\n",
       "         0.00000000e+00,  0.00000000e+00,  0.00000000e+00,\n",
       "         0.00000000e+00,  0.00000000e+00,  0.00000000e+00],\n",
       "       [-5.74867764e-19,  7.13944967e-17,  1.00000000e+00,\n",
       "        -5.39184522e-18,  3.36874383e-18,  2.49375065e-19,\n",
       "         2.00756952e-18,  2.98715859e-20, -1.39144996e-20,\n",
       "         0.00000000e+00,  0.00000000e+00,  0.00000000e+00,\n",
       "         0.00000000e+00,  0.00000000e+00,  0.00000000e+00,\n",
       "         0.00000000e+00,  0.00000000e+00,  0.00000000e+00,\n",
       "         0.00000000e+00,  0.00000000e+00,  0.00000000e+00,\n",
       "         0.00000000e+00,  0.00000000e+00,  0.00000000e+00,\n",
       "         0.00000000e+00,  0.00000000e+00,  0.00000000e+00,\n",
       "         0.00000000e+00,  0.00000000e+00,  0.00000000e+00],\n",
       "       [-3.63467402e-22, -3.06568796e-18, -5.39184522e-18,\n",
       "         1.00000000e+00,  8.39028193e-17, -3.37414994e-18,\n",
       "         2.73238374e-17,  3.55828175e-19, -2.43576687e-19,\n",
       "         0.00000000e+00,  0.00000000e+00,  0.00000000e+00,\n",
       "         0.00000000e+00,  0.00000000e+00,  0.00000000e+00,\n",
       "         0.00000000e+00,  0.00000000e+00,  0.00000000e+00,\n",
       "         0.00000000e+00,  0.00000000e+00,  0.00000000e+00,\n",
       "         0.00000000e+00,  0.00000000e+00,  0.00000000e+00,\n",
       "         0.00000000e+00,  0.00000000e+00,  0.00000000e+00,\n",
       "         0.00000000e+00,  0.00000000e+00,  0.00000000e+00],\n",
       "       [-2.03491833e-20,  4.02403740e-19,  3.36874383e-18,\n",
       "         8.39028193e-17,  1.00000000e+00,  1.73799245e-16,\n",
       "        -6.11126843e-17,  2.85131185e-18, -8.41346468e-19,\n",
       "         0.00000000e+00,  0.00000000e+00,  0.00000000e+00,\n",
       "         0.00000000e+00,  0.00000000e+00,  0.00000000e+00,\n",
       "         0.00000000e+00,  0.00000000e+00,  0.00000000e+00,\n",
       "         0.00000000e+00,  0.00000000e+00,  0.00000000e+00,\n",
       "         0.00000000e+00,  0.00000000e+00,  0.00000000e+00,\n",
       "         0.00000000e+00,  0.00000000e+00,  0.00000000e+00,\n",
       "         0.00000000e+00,  0.00000000e+00,  0.00000000e+00],\n",
       "       [-5.14892172e-22,  1.00142977e-20,  2.49375065e-19,\n",
       "        -3.37414994e-18,  1.73799245e-16,  1.00000000e+00,\n",
       "        -7.54846539e-17, -9.48583357e-18, -1.17647612e-18,\n",
       "         0.00000000e+00,  0.00000000e+00,  0.00000000e+00,\n",
       "         0.00000000e+00,  0.00000000e+00,  0.00000000e+00,\n",
       "         0.00000000e+00,  0.00000000e+00,  0.00000000e+00,\n",
       "         0.00000000e+00,  0.00000000e+00,  0.00000000e+00,\n",
       "         0.00000000e+00,  0.00000000e+00,  0.00000000e+00,\n",
       "         0.00000000e+00,  0.00000000e+00,  0.00000000e+00,\n",
       "         0.00000000e+00,  0.00000000e+00,  0.00000000e+00],\n",
       "       [ 1.69040962e-21, -4.82042090e-20,  2.00756952e-18,\n",
       "         2.73238374e-17, -6.11126843e-17, -7.54846539e-17,\n",
       "         1.00000000e+00, -5.47904169e-17,  2.04049565e-18,\n",
       "         0.00000000e+00,  0.00000000e+00,  0.00000000e+00,\n",
       "         0.00000000e+00,  0.00000000e+00,  0.00000000e+00,\n",
       "         0.00000000e+00,  0.00000000e+00,  0.00000000e+00,\n",
       "         0.00000000e+00,  0.00000000e+00,  0.00000000e+00,\n",
       "         0.00000000e+00,  0.00000000e+00,  0.00000000e+00,\n",
       "         0.00000000e+00,  0.00000000e+00,  0.00000000e+00,\n",
       "         0.00000000e+00,  0.00000000e+00,  0.00000000e+00],\n",
       "       [-2.34328823e-26, -1.85001147e-22,  2.98715859e-20,\n",
       "         3.55828175e-19,  2.85131185e-18, -9.48583357e-18,\n",
       "        -5.47904169e-17,  1.00000000e+00, -1.96252832e-16,\n",
       "         0.00000000e+00,  0.00000000e+00,  0.00000000e+00,\n",
       "         0.00000000e+00,  0.00000000e+00,  0.00000000e+00,\n",
       "         0.00000000e+00,  0.00000000e+00,  0.00000000e+00,\n",
       "         0.00000000e+00,  0.00000000e+00,  0.00000000e+00,\n",
       "         0.00000000e+00,  0.00000000e+00,  0.00000000e+00,\n",
       "         0.00000000e+00,  0.00000000e+00,  0.00000000e+00,\n",
       "         0.00000000e+00,  0.00000000e+00,  0.00000000e+00],\n",
       "       [ 4.34377265e-28,  5.60061672e-24, -1.39144996e-20,\n",
       "        -2.43576687e-19, -8.41346468e-19, -1.17647612e-18,\n",
       "         2.04049565e-18, -1.96252832e-16,  1.00000000e+00,\n",
       "         0.00000000e+00,  0.00000000e+00,  0.00000000e+00,\n",
       "         0.00000000e+00,  0.00000000e+00,  0.00000000e+00,\n",
       "         0.00000000e+00,  0.00000000e+00,  0.00000000e+00,\n",
       "         0.00000000e+00,  0.00000000e+00,  0.00000000e+00,\n",
       "         0.00000000e+00,  0.00000000e+00,  0.00000000e+00,\n",
       "         0.00000000e+00,  0.00000000e+00,  0.00000000e+00,\n",
       "         0.00000000e+00,  0.00000000e+00,  0.00000000e+00],\n",
       "       [ 0.00000000e+00,  0.00000000e+00,  0.00000000e+00,\n",
       "         0.00000000e+00,  0.00000000e+00,  0.00000000e+00,\n",
       "         0.00000000e+00,  0.00000000e+00,  0.00000000e+00,\n",
       "         1.00000000e+00,  0.00000000e+00,  0.00000000e+00,\n",
       "         0.00000000e+00,  0.00000000e+00,  0.00000000e+00,\n",
       "         0.00000000e+00,  0.00000000e+00,  0.00000000e+00,\n",
       "         0.00000000e+00,  0.00000000e+00,  0.00000000e+00,\n",
       "         0.00000000e+00,  0.00000000e+00,  0.00000000e+00,\n",
       "         0.00000000e+00,  0.00000000e+00,  0.00000000e+00,\n",
       "         0.00000000e+00,  0.00000000e+00,  0.00000000e+00],\n",
       "       [ 0.00000000e+00,  0.00000000e+00,  0.00000000e+00,\n",
       "         0.00000000e+00,  0.00000000e+00,  0.00000000e+00,\n",
       "         0.00000000e+00,  0.00000000e+00,  0.00000000e+00,\n",
       "         0.00000000e+00,  1.00000000e+00,  0.00000000e+00,\n",
       "         0.00000000e+00,  0.00000000e+00,  0.00000000e+00,\n",
       "         0.00000000e+00,  0.00000000e+00,  0.00000000e+00,\n",
       "         0.00000000e+00,  0.00000000e+00,  0.00000000e+00,\n",
       "         0.00000000e+00,  0.00000000e+00,  0.00000000e+00,\n",
       "         0.00000000e+00,  0.00000000e+00,  0.00000000e+00,\n",
       "         0.00000000e+00,  0.00000000e+00,  0.00000000e+00],\n",
       "       [ 0.00000000e+00,  0.00000000e+00,  0.00000000e+00,\n",
       "         0.00000000e+00,  0.00000000e+00,  0.00000000e+00,\n",
       "         0.00000000e+00,  0.00000000e+00,  0.00000000e+00,\n",
       "         0.00000000e+00,  0.00000000e+00,  1.00000000e+00,\n",
       "         0.00000000e+00,  0.00000000e+00,  0.00000000e+00,\n",
       "         0.00000000e+00,  0.00000000e+00,  0.00000000e+00,\n",
       "         0.00000000e+00,  0.00000000e+00,  0.00000000e+00,\n",
       "         0.00000000e+00,  0.00000000e+00,  0.00000000e+00,\n",
       "         0.00000000e+00,  0.00000000e+00,  0.00000000e+00,\n",
       "         0.00000000e+00,  0.00000000e+00,  0.00000000e+00],\n",
       "       [ 0.00000000e+00,  0.00000000e+00,  0.00000000e+00,\n",
       "         0.00000000e+00,  0.00000000e+00,  0.00000000e+00,\n",
       "         0.00000000e+00,  0.00000000e+00,  0.00000000e+00,\n",
       "         0.00000000e+00,  0.00000000e+00,  0.00000000e+00,\n",
       "         1.00000000e+00,  0.00000000e+00,  0.00000000e+00,\n",
       "         0.00000000e+00,  0.00000000e+00,  0.00000000e+00,\n",
       "         0.00000000e+00,  0.00000000e+00,  0.00000000e+00,\n",
       "         0.00000000e+00,  0.00000000e+00,  0.00000000e+00,\n",
       "         0.00000000e+00,  0.00000000e+00,  0.00000000e+00,\n",
       "         0.00000000e+00,  0.00000000e+00,  0.00000000e+00],\n",
       "       [ 0.00000000e+00,  0.00000000e+00,  0.00000000e+00,\n",
       "         0.00000000e+00,  0.00000000e+00,  0.00000000e+00,\n",
       "         0.00000000e+00,  0.00000000e+00,  0.00000000e+00,\n",
       "         0.00000000e+00,  0.00000000e+00,  0.00000000e+00,\n",
       "         0.00000000e+00,  1.00000000e+00,  0.00000000e+00,\n",
       "         0.00000000e+00,  0.00000000e+00,  0.00000000e+00,\n",
       "         0.00000000e+00,  0.00000000e+00,  0.00000000e+00,\n",
       "         0.00000000e+00,  0.00000000e+00,  0.00000000e+00,\n",
       "         0.00000000e+00,  0.00000000e+00,  0.00000000e+00,\n",
       "         0.00000000e+00,  0.00000000e+00,  0.00000000e+00],\n",
       "       [ 0.00000000e+00,  0.00000000e+00,  0.00000000e+00,\n",
       "         0.00000000e+00,  0.00000000e+00,  0.00000000e+00,\n",
       "         0.00000000e+00,  0.00000000e+00,  0.00000000e+00,\n",
       "         0.00000000e+00,  0.00000000e+00,  0.00000000e+00,\n",
       "         0.00000000e+00,  0.00000000e+00,  1.00000000e+00,\n",
       "         0.00000000e+00,  0.00000000e+00,  0.00000000e+00,\n",
       "         0.00000000e+00,  0.00000000e+00,  0.00000000e+00,\n",
       "         0.00000000e+00,  0.00000000e+00,  0.00000000e+00,\n",
       "         0.00000000e+00,  0.00000000e+00,  0.00000000e+00,\n",
       "         0.00000000e+00,  0.00000000e+00,  0.00000000e+00],\n",
       "       [ 0.00000000e+00,  0.00000000e+00,  0.00000000e+00,\n",
       "         0.00000000e+00,  0.00000000e+00,  0.00000000e+00,\n",
       "         0.00000000e+00,  0.00000000e+00,  0.00000000e+00,\n",
       "         0.00000000e+00,  0.00000000e+00,  0.00000000e+00,\n",
       "         0.00000000e+00,  0.00000000e+00,  0.00000000e+00,\n",
       "         1.00000000e+00,  0.00000000e+00,  0.00000000e+00,\n",
       "         0.00000000e+00,  0.00000000e+00,  0.00000000e+00,\n",
       "         0.00000000e+00,  0.00000000e+00,  0.00000000e+00,\n",
       "         0.00000000e+00,  0.00000000e+00,  0.00000000e+00,\n",
       "         0.00000000e+00,  0.00000000e+00,  0.00000000e+00],\n",
       "       [ 0.00000000e+00,  0.00000000e+00,  0.00000000e+00,\n",
       "         0.00000000e+00,  0.00000000e+00,  0.00000000e+00,\n",
       "         0.00000000e+00,  0.00000000e+00,  0.00000000e+00,\n",
       "         0.00000000e+00,  0.00000000e+00,  0.00000000e+00,\n",
       "         0.00000000e+00,  0.00000000e+00,  0.00000000e+00,\n",
       "         0.00000000e+00,  1.00000000e+00,  0.00000000e+00,\n",
       "         0.00000000e+00,  0.00000000e+00,  0.00000000e+00,\n",
       "         0.00000000e+00,  0.00000000e+00,  0.00000000e+00,\n",
       "         0.00000000e+00,  0.00000000e+00,  0.00000000e+00,\n",
       "         0.00000000e+00,  0.00000000e+00,  0.00000000e+00],\n",
       "       [ 0.00000000e+00,  0.00000000e+00,  0.00000000e+00,\n",
       "         0.00000000e+00,  0.00000000e+00,  0.00000000e+00,\n",
       "         0.00000000e+00,  0.00000000e+00,  0.00000000e+00,\n",
       "         0.00000000e+00,  0.00000000e+00,  0.00000000e+00,\n",
       "         0.00000000e+00,  0.00000000e+00,  0.00000000e+00,\n",
       "         0.00000000e+00,  0.00000000e+00,  1.00000000e+00,\n",
       "         0.00000000e+00,  0.00000000e+00,  0.00000000e+00,\n",
       "         0.00000000e+00,  0.00000000e+00,  0.00000000e+00,\n",
       "         0.00000000e+00,  0.00000000e+00,  0.00000000e+00,\n",
       "         0.00000000e+00,  0.00000000e+00,  0.00000000e+00],\n",
       "       [ 0.00000000e+00,  0.00000000e+00,  0.00000000e+00,\n",
       "         0.00000000e+00,  0.00000000e+00,  0.00000000e+00,\n",
       "         0.00000000e+00,  0.00000000e+00,  0.00000000e+00,\n",
       "         0.00000000e+00,  0.00000000e+00,  0.00000000e+00,\n",
       "         0.00000000e+00,  0.00000000e+00,  0.00000000e+00,\n",
       "         0.00000000e+00,  0.00000000e+00,  0.00000000e+00,\n",
       "         1.00000000e+00,  0.00000000e+00,  0.00000000e+00,\n",
       "         0.00000000e+00,  0.00000000e+00,  0.00000000e+00,\n",
       "         0.00000000e+00,  0.00000000e+00,  0.00000000e+00,\n",
       "         0.00000000e+00,  0.00000000e+00,  0.00000000e+00],\n",
       "       [ 0.00000000e+00,  0.00000000e+00,  0.00000000e+00,\n",
       "         0.00000000e+00,  0.00000000e+00,  0.00000000e+00,\n",
       "         0.00000000e+00,  0.00000000e+00,  0.00000000e+00,\n",
       "         0.00000000e+00,  0.00000000e+00,  0.00000000e+00,\n",
       "         0.00000000e+00,  0.00000000e+00,  0.00000000e+00,\n",
       "         0.00000000e+00,  0.00000000e+00,  0.00000000e+00,\n",
       "         0.00000000e+00,  1.00000000e+00,  0.00000000e+00,\n",
       "         0.00000000e+00,  0.00000000e+00,  0.00000000e+00,\n",
       "         0.00000000e+00,  0.00000000e+00,  0.00000000e+00,\n",
       "         0.00000000e+00,  0.00000000e+00,  0.00000000e+00],\n",
       "       [ 0.00000000e+00,  0.00000000e+00,  0.00000000e+00,\n",
       "         0.00000000e+00,  0.00000000e+00,  0.00000000e+00,\n",
       "         0.00000000e+00,  0.00000000e+00,  0.00000000e+00,\n",
       "         0.00000000e+00,  0.00000000e+00,  0.00000000e+00,\n",
       "         0.00000000e+00,  0.00000000e+00,  0.00000000e+00,\n",
       "         0.00000000e+00,  0.00000000e+00,  0.00000000e+00,\n",
       "         0.00000000e+00,  0.00000000e+00,  1.00000000e+00,\n",
       "         0.00000000e+00,  0.00000000e+00,  0.00000000e+00,\n",
       "         0.00000000e+00,  0.00000000e+00,  0.00000000e+00,\n",
       "         0.00000000e+00,  0.00000000e+00,  0.00000000e+00],\n",
       "       [ 0.00000000e+00,  0.00000000e+00,  0.00000000e+00,\n",
       "         0.00000000e+00,  0.00000000e+00,  0.00000000e+00,\n",
       "         0.00000000e+00,  0.00000000e+00,  0.00000000e+00,\n",
       "         0.00000000e+00,  0.00000000e+00,  0.00000000e+00,\n",
       "         0.00000000e+00,  0.00000000e+00,  0.00000000e+00,\n",
       "         0.00000000e+00,  0.00000000e+00,  0.00000000e+00,\n",
       "         0.00000000e+00,  0.00000000e+00,  0.00000000e+00,\n",
       "         1.00000000e+00,  0.00000000e+00,  0.00000000e+00,\n",
       "         0.00000000e+00,  0.00000000e+00,  0.00000000e+00,\n",
       "         0.00000000e+00,  0.00000000e+00,  0.00000000e+00],\n",
       "       [ 0.00000000e+00,  0.00000000e+00,  0.00000000e+00,\n",
       "         0.00000000e+00,  0.00000000e+00,  0.00000000e+00,\n",
       "         0.00000000e+00,  0.00000000e+00,  0.00000000e+00,\n",
       "         0.00000000e+00,  0.00000000e+00,  0.00000000e+00,\n",
       "         0.00000000e+00,  0.00000000e+00,  0.00000000e+00,\n",
       "         0.00000000e+00,  0.00000000e+00,  0.00000000e+00,\n",
       "         0.00000000e+00,  0.00000000e+00,  0.00000000e+00,\n",
       "         0.00000000e+00,  1.00000000e+00,  0.00000000e+00,\n",
       "         0.00000000e+00,  0.00000000e+00,  0.00000000e+00,\n",
       "         0.00000000e+00,  0.00000000e+00,  0.00000000e+00],\n",
       "       [ 0.00000000e+00,  0.00000000e+00,  0.00000000e+00,\n",
       "         0.00000000e+00,  0.00000000e+00,  0.00000000e+00,\n",
       "         0.00000000e+00,  0.00000000e+00,  0.00000000e+00,\n",
       "         0.00000000e+00,  0.00000000e+00,  0.00000000e+00,\n",
       "         0.00000000e+00,  0.00000000e+00,  0.00000000e+00,\n",
       "         0.00000000e+00,  0.00000000e+00,  0.00000000e+00,\n",
       "         0.00000000e+00,  0.00000000e+00,  0.00000000e+00,\n",
       "         0.00000000e+00,  0.00000000e+00,  1.00000000e+00,\n",
       "         0.00000000e+00,  0.00000000e+00,  0.00000000e+00,\n",
       "         0.00000000e+00,  0.00000000e+00,  0.00000000e+00],\n",
       "       [ 0.00000000e+00,  0.00000000e+00,  0.00000000e+00,\n",
       "         0.00000000e+00,  0.00000000e+00,  0.00000000e+00,\n",
       "         0.00000000e+00,  0.00000000e+00,  0.00000000e+00,\n",
       "         0.00000000e+00,  0.00000000e+00,  0.00000000e+00,\n",
       "         0.00000000e+00,  0.00000000e+00,  0.00000000e+00,\n",
       "         0.00000000e+00,  0.00000000e+00,  0.00000000e+00,\n",
       "         0.00000000e+00,  0.00000000e+00,  0.00000000e+00,\n",
       "         0.00000000e+00,  0.00000000e+00,  0.00000000e+00,\n",
       "         1.00000000e+00,  0.00000000e+00,  0.00000000e+00,\n",
       "         0.00000000e+00,  0.00000000e+00,  0.00000000e+00],\n",
       "       [ 0.00000000e+00,  0.00000000e+00,  0.00000000e+00,\n",
       "         0.00000000e+00,  0.00000000e+00,  0.00000000e+00,\n",
       "         0.00000000e+00,  0.00000000e+00,  0.00000000e+00,\n",
       "         0.00000000e+00,  0.00000000e+00,  0.00000000e+00,\n",
       "         0.00000000e+00,  0.00000000e+00,  0.00000000e+00,\n",
       "         0.00000000e+00,  0.00000000e+00,  0.00000000e+00,\n",
       "         0.00000000e+00,  0.00000000e+00,  0.00000000e+00,\n",
       "         0.00000000e+00,  0.00000000e+00,  0.00000000e+00,\n",
       "         0.00000000e+00,  1.00000000e+00,  0.00000000e+00,\n",
       "         0.00000000e+00,  0.00000000e+00,  0.00000000e+00],\n",
       "       [ 0.00000000e+00,  0.00000000e+00,  0.00000000e+00,\n",
       "         0.00000000e+00,  0.00000000e+00,  0.00000000e+00,\n",
       "         0.00000000e+00,  0.00000000e+00,  0.00000000e+00,\n",
       "         0.00000000e+00,  0.00000000e+00,  0.00000000e+00,\n",
       "         0.00000000e+00,  0.00000000e+00,  0.00000000e+00,\n",
       "         0.00000000e+00,  0.00000000e+00,  0.00000000e+00,\n",
       "         0.00000000e+00,  0.00000000e+00,  0.00000000e+00,\n",
       "         0.00000000e+00,  0.00000000e+00,  0.00000000e+00,\n",
       "         0.00000000e+00,  0.00000000e+00,  1.00000000e+00,\n",
       "         0.00000000e+00,  0.00000000e+00,  0.00000000e+00],\n",
       "       [ 0.00000000e+00,  0.00000000e+00,  0.00000000e+00,\n",
       "         0.00000000e+00,  0.00000000e+00,  0.00000000e+00,\n",
       "         0.00000000e+00,  0.00000000e+00,  0.00000000e+00,\n",
       "         0.00000000e+00,  0.00000000e+00,  0.00000000e+00,\n",
       "         0.00000000e+00,  0.00000000e+00,  0.00000000e+00,\n",
       "         0.00000000e+00,  0.00000000e+00,  0.00000000e+00,\n",
       "         0.00000000e+00,  0.00000000e+00,  0.00000000e+00,\n",
       "         0.00000000e+00,  0.00000000e+00,  0.00000000e+00,\n",
       "         0.00000000e+00,  0.00000000e+00,  0.00000000e+00,\n",
       "         1.00000000e+00,  0.00000000e+00,  0.00000000e+00],\n",
       "       [ 0.00000000e+00,  0.00000000e+00,  0.00000000e+00,\n",
       "         0.00000000e+00,  0.00000000e+00,  0.00000000e+00,\n",
       "         0.00000000e+00,  0.00000000e+00,  0.00000000e+00,\n",
       "         0.00000000e+00,  0.00000000e+00,  0.00000000e+00,\n",
       "         0.00000000e+00,  0.00000000e+00,  0.00000000e+00,\n",
       "         0.00000000e+00,  0.00000000e+00,  0.00000000e+00,\n",
       "         0.00000000e+00,  0.00000000e+00,  0.00000000e+00,\n",
       "         0.00000000e+00,  0.00000000e+00,  0.00000000e+00,\n",
       "         0.00000000e+00,  0.00000000e+00,  0.00000000e+00,\n",
       "         0.00000000e+00,  1.00000000e+00,  0.00000000e+00],\n",
       "       [ 0.00000000e+00,  0.00000000e+00,  0.00000000e+00,\n",
       "         0.00000000e+00,  0.00000000e+00,  0.00000000e+00,\n",
       "         0.00000000e+00,  0.00000000e+00,  0.00000000e+00,\n",
       "         0.00000000e+00,  0.00000000e+00,  0.00000000e+00,\n",
       "         0.00000000e+00,  0.00000000e+00,  0.00000000e+00,\n",
       "         0.00000000e+00,  0.00000000e+00,  0.00000000e+00,\n",
       "         0.00000000e+00,  0.00000000e+00,  0.00000000e+00,\n",
       "         0.00000000e+00,  0.00000000e+00,  0.00000000e+00,\n",
       "         0.00000000e+00,  0.00000000e+00,  0.00000000e+00,\n",
       "         0.00000000e+00,  0.00000000e+00,  1.00000000e+00]])"
      ]
     },
     "execution_count": 78,
     "metadata": {},
     "output_type": "execute_result"
    }
   ],
   "source": [
    "new_sys_operator_dict[name].toarray()"
   ]
  },
  {
   "cell_type": "code",
   "execution_count": 79,
   "id": "d7eaf745-717c-4282-951d-5f5769b8dd70",
   "metadata": {},
   "outputs": [
    {
     "data": {
      "text/plain": [
       "{'H': <30x30 sparse matrix of type '<class 'numpy.float64'>'\n",
       " \twith 558 stored elements in Compressed Sparse Row format>,\n",
       " 'Magz': <30x30 sparse matrix of type '<class 'numpy.float64'>'\n",
       " \twith 480 stored elements in Compressed Sparse Row format>,\n",
       " 'Magx': <30x30 sparse matrix of type '<class 'numpy.float64'>'\n",
       " \twith 558 stored elements in Compressed Sparse Row format>,\n",
       " 'conn_Sz': <30x30 sparse matrix of type '<class 'numpy.float64'>'\n",
       " \twith 102 stored elements in Compressed Sparse Row format>,\n",
       " 'conn_Sx': <30x30 sparse matrix of type '<class 'numpy.float64'>'\n",
       " \twith 101 stored elements in Compressed Sparse Row format>,\n",
       " 'ident_sys': <30x30 sparse matrix of type '<class 'numpy.float64'>'\n",
       " \twith 102 stored elements in Compressed Sparse Row format>}"
      ]
     },
     "execution_count": 79,
     "metadata": {},
     "output_type": "execute_result"
    }
   ],
   "source": [
    "new_sys_operator_dict"
   ]
  },
  {
   "cell_type": "code",
   "execution_count": null,
   "id": "aa1d339d-9ced-45b2-a7d2-6f5d01f19b7a",
   "metadata": {},
   "outputs": [],
   "source": []
  }
 ],
 "metadata": {
  "kernelspec": {
   "display_name": "Python 3 (ipykernel)",
   "language": "python",
   "name": "python3"
  },
  "language_info": {
   "codemirror_mode": {
    "name": "ipython",
    "version": 3
   },
   "file_extension": ".py",
   "mimetype": "text/x-python",
   "name": "python",
   "nbconvert_exporter": "python",
   "pygments_lexer": "ipython3",
   "version": "3.10.7"
  }
 },
 "nbformat": 4,
 "nbformat_minor": 5
}
